{
 "cells": [
  {
   "cell_type": "code",
   "execution_count": null,
   "metadata": {
    "collapsed": true
   },
   "outputs": [],
   "source": [
    "# CONNECTING TO DATABASE - BBC MEDIA DATABASE EXAMPLE\n",
    "# Database name is 'media'"
   ]
  },
  {
   "cell_type": "code",
   "execution_count": null,
   "metadata": {
    "collapsed": true
   },
   "outputs": [],
   "source": [
    "# Execute this code to load the run_sql funtion\n",
    "\n",
    "def run_sql(my_sql, db_name):\n",
    "    import psycopg2\n",
    "    import pprint\n",
    "\n",
    "    # Redshift connection string \n",
    "    my_conn_string = \"dbname='\"+db_name+\"' port='5439' user='masteruser' password='Redshift99' host='examplecluster.cc6n7mrnrrhz.us-west-2.redshift.amazonaws.com'\"  \n",
    "\n",
    "    # Open connection to Redshift\n",
    "    with psycopg2.connect(my_conn_string) as my_conn:  # Using a with statment avoids having to remember to close the connection\n",
    "\n",
    "        # Create a curor.  A cursor is used to execute SQL.\n",
    "        my_cursor = my_conn.cursor();\n",
    "\n",
    "        # Execute the SQL\n",
    "        my_cursor.execute(my_sql)  # Cursor documentation here  http://initd.org/psycopg/docs/cursor.html\n",
    "        try:\n",
    "            return my_cursor.fetchall()\n",
    "        except:\n",
    "            print('SQL ran successfully, no results were returned')  # If it doesn't execute, exception will be raised before this.\n",
    "            return None"
   ]
  },
  {
   "cell_type": "code",
   "execution_count": null,
   "metadata": {
    "collapsed": false,
    "scrolled": false
   },
   "outputs": [],
   "source": [
    "# Test the function by running the following SQL statement\n",
    "\n",
    "run_sql('select * from device;', db_name='media')"
   ]
  },
  {
   "cell_type": "code",
   "execution_count": null,
   "metadata": {
    "collapsed": false,
    "scrolled": true
   },
   "outputs": [],
   "source": [
    "# Now find the other table names on the database.\n",
    "#\n",
    "# Run the following code:\n",
    "\n",
    "my_sql = \"SELECT distinct tablename FROM pg_table_def \"+ \\\n",
    "         \"WHERE schemaname = 'public' \"+ \\\n",
    "         \"and tablename not like '%pkey%' \"+ \\\n",
    "         \"and tablename not like 'vw%' \" + \\\n",
    "         \"and tablename not like '%view' \" + \\\n",
    "         \"ORDER BY tablename;\"\n",
    "\n",
    "table_names = run_sql(my_sql, db_name='media')\n",
    "print(table_names)"
   ]
  },
  {
   "cell_type": "code",
   "execution_count": null,
   "metadata": {
    "collapsed": false
   },
   "outputs": [],
   "source": [
    "# Let's take a look at the page table\n",
    "# First, execute this code to find all \n",
    "# the information about the columns\n",
    "\n",
    "import pprint\n",
    "\n",
    "my_sql = \"SELECT * FROM pg_table_def \" + \\\n",
    "         \"WHERE tablename = 'page'\"\n",
    "\n",
    "column_info_list = run_sql(my_sql, db_name='media')\n",
    "pprint.pprint(column_info_list)"
   ]
  },
  {
   "cell_type": "code",
   "execution_count": null,
   "metadata": {
    "collapsed": false,
    "scrolled": true
   },
   "outputs": [],
   "source": [
    "# Run this code to extract the 3rd column (column 2).\n",
    "# This contains the column names\n",
    "\n",
    "column_names = [column_info[2] for column_info in column_info_list]\n",
    "print(column_names)"
   ]
  },
  {
   "cell_type": "code",
   "execution_count": null,
   "metadata": {
    "collapsed": false
   },
   "outputs": [],
   "source": [
    "# Now complete the code below to select all the \n",
    "# urls from the page table.\n",
    "#\n",
    "# The urls should be in a list called url_list.\n",
    "#\n",
    "# The SQL we need is:\n",
    "# 'select url from page;'\n",
    "# Use the run_sql() command to execute this.\n",
    "# the db_name should be 'media' as per the examples above.\n",
    "#\n",
    "# Use slicing syntax to print just the first 20 items\n",
    "# in url_list\n",
    "#\n",
    "# Use pprint.pprint() to format the printing\n",
    "\n",
    "import pprint\n",
    "\n",
    "url_list =                    # add code here to select the urls from the page table.\n",
    "pprint.pprint(url_list[:30])"
   ]
  },
  {
   "cell_type": "code",
   "execution_count": null,
   "metadata": {
    "collapsed": false,
    "scrolled": true
   },
   "outputs": [],
   "source": [
    "# Find out how many rows in total using len(url_list)\n",
    "\n",
    "print(len(url_list))"
   ]
  },
  {
   "cell_type": "code",
   "execution_count": null,
   "metadata": {
    "collapsed": true
   },
   "outputs": [],
   "source": [
    "# url_list contains a list of tuples \n",
    "# Each tuple contains just one string.\n",
    "# \n",
    "# We can tell they are tuples, as they are\n",
    "# surrounded by round brackets and have a \n",
    "# comma after the first item.\n",
    "#\n",
    "# The next step is to convert the list of \n",
    "# tuples to a list of strings using a list comprehension\n",
    "\n",
    "import pprint\n",
    "\n",
    "string_url_list = [row[0] for row in url_list]\n",
    "pprint.pprint(string_url_list[:20])"
   ]
  },
  {
   "cell_type": "code",
   "execution_count": null,
   "metadata": {
    "collapsed": false
   },
   "outputs": [],
   "source": [
    "# Now we can process the data in python\n",
    "#\n",
    "# We will create a list of only the sport urls\n",
    "# using a list comprehension\n",
    "# and the following if statement:\n",
    "# if 'sport/football/' in url\n",
    "# and url[-1] in string.digits\n",
    "# you will need to import the string module to get the list of digits.\n",
    "# call the new list sport_urls\n",
    "\n",
    "import string\n",
    "\n",
    "sport_urls = [url for url in string_url_list if 'sport/football/' in url and url[-1] in string.digits]\n",
    "pprint.pprint(sport_urls)\n"
   ]
  },
  {
   "cell_type": "code",
   "execution_count": null,
   "metadata": {
    "collapsed": false,
    "scrolled": true
   },
   "outputs": [],
   "source": [
    "# Now add an Interact pull-down list to choose a URL\n",
    "# by executing the following code\n",
    "\n",
    "from ipywidgets import interact\n",
    "\n",
    "def item_selected(x):\n",
    "    print(x)\n",
    "\n",
    "interact(print_item, x=sport_urls)"
   ]
  },
  {
   "cell_type": "code",
   "execution_count": null,
   "metadata": {
    "collapsed": false
   },
   "outputs": [],
   "source": [
    "# Now pick one at random.\n",
    "#\n",
    "# The random module contains \n",
    "# a useful method random()\n",
    "# which picks a random item from\n",
    "# any sequence.\n",
    "\n",
    "import random\n",
    "\n",
    "url = random.choice(sport_urls)\n",
    "print(url)"
   ]
  },
  {
   "cell_type": "code",
   "execution_count": null,
   "metadata": {
    "collapsed": false
   },
   "outputs": [],
   "source": [
    "# Open the random URL in Chrome\n",
    "\n",
    "import os\n",
    "\n",
    "os.system('start chrome ' + url)"
   ]
  },
  {
   "cell_type": "code",
   "execution_count": null,
   "metadata": {
    "collapsed": true
   },
   "outputs": [],
   "source": [
    "# If time:\n",
    "#\n",
    "# Save your work so far.\n",
    "# Look at the other table names on the database.:\n",
    "# Find the column names\n",
    "# Write select statements\n",
    "# Use python list comprehensions, string methods and \n",
    "# maths functions to transform the data."
   ]
  }
 ],
 "metadata": {
  "anaconda-cloud": {},
  "kernelspec": {
   "display_name": "Python [conda env:headless]",
   "language": "python",
   "name": "conda-env-headless-py"
  },
  "language_info": {
   "codemirror_mode": {
    "name": "ipython",
    "version": 3
   },
   "file_extension": ".py",
   "mimetype": "text/x-python",
   "name": "python",
   "nbconvert_exporter": "python",
   "pygments_lexer": "ipython3",
   "version": "3.5.2"
  }
 },
 "nbformat": 4,
 "nbformat_minor": 1
}
