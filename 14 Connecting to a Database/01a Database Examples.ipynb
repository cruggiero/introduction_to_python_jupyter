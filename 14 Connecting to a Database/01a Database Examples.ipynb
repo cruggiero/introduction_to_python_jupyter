{
 "cells": [
  {
   "cell_type": "code",
   "execution_count": null,
   "metadata": {
    "collapsed": true
   },
   "outputs": [],
   "source": [
    "# CONNECTING TO REDSHIFT USING psycopg2 module\n",
    "\n",
    "# Spin up Oregon, BBC Oct 6 snapshot and ensure live before executing the SQL below"
   ]
  },
  {
   "cell_type": "code",
   "execution_count": null,
   "metadata": {
    "collapsed": false
   },
   "outputs": [],
   "source": [
    "# First step is to check we can connect to the database\n",
    "# This code should execute with no errors\n",
    "\n",
    "import psycopg2\n",
    "import pprint\n",
    "\n",
    "# Redshift connection string \n",
    "my_conn_string = \"dbname='dev' port='5439' user='masteruser' password='Redshift99' host='examplecluster.cc6n7mrnrrhz.us-west-2.redshift.amazonaws.com'\"  \n",
    "\n",
    "# Open connection to Redshift\n",
    "my_conn = psycopg2.connect(my_conn_string)\n",
    "my_conn.close()\n"
   ]
  },
  {
   "cell_type": "code",
   "execution_count": null,
   "metadata": {
    "collapsed": true
   },
   "outputs": [],
   "source": [
    "# Try entering the wrong password to check this fails"
   ]
  },
  {
   "cell_type": "code",
   "execution_count": null,
   "metadata": {
    "collapsed": false
   },
   "outputs": [],
   "source": [
    "# You can check for errors using a try: except: block, \n",
    "# to give a more human readable error message\n",
    "# But this masks any debug information\n",
    "\n",
    "import psycopg2\n",
    "import pprint\n",
    "\n",
    "# Redshift connection string \n",
    "my_conn_string = \"dbname='dev' port='5439' user='masteruser' password='Redshift99' host='examplecluster.cc6n7mrnrrhz.us-west-2.redshift.amazonaws.com'\"  \n",
    "\n",
    "# Open connection to Redshift\n",
    "try:\n",
    "    my_conn = psycopg2.connect(my_conn_string)\n",
    "except:\n",
    "    print('error connecting')\n",
    "    \n",
    "my_conn.close()"
   ]
  },
  {
   "cell_type": "code",
   "execution_count": null,
   "metadata": {
    "collapsed": false,
    "scrolled": true
   },
   "outputs": [],
   "source": [
    "# We need to create a cursor to run some SQL\n",
    "# pg_tables contains a list of all system tables in Redshift.\n",
    "# It is avialable in all Redshift databases, so it is a good one\n",
    "# to start with.\n",
    "\n",
    "import psycopg2\n",
    "import pprint\n",
    "\n",
    "# Redshift connection string \n",
    "my_conn_string = \"dbname='dev' port='5439' user='masteruser' password='Redshift99' host='examplecluster.cc6n7mrnrrhz.us-west-2.redshift.amazonaws.com'\"  \n",
    "\n",
    "# Open connection to Redshift\n",
    "with psycopg2.connect(my_conn_string) as my_conn:  # Using a with statment avoids having to remember to close the connection\n",
    "    \n",
    "    # Create a curor.  A cursor is used to execute SQL.\n",
    "    my_cursor = my_conn.cursor();\n",
    "\n",
    "    # Execute the SQL\n",
    "    my_cursor.execute(\"Select * from pg_tables limit 10;\")  # Cursor documentation here  http://initd.org/psycopg/docs/cursor.html\n",
    "\n",
    "    # Print the results\n",
    "    for my_record in my_cursor:\n",
    "         pprint.pprint(my_record)"
   ]
  },
  {
   "cell_type": "code",
   "execution_count": null,
   "metadata": {
    "collapsed": false
   },
   "outputs": [],
   "source": [
    "# Return all rows as a list\n",
    "\n",
    "import psycopg2\n",
    "import pprint\n",
    "\n",
    "# Redshift connection string \n",
    "my_conn_string = \"dbname='dev' port='5439' user='masteruser' password='Redshift99' host='examplecluster.cc6n7mrnrrhz.us-west-2.redshift.amazonaws.com'\"  \n",
    "\n",
    "# Open connection to Redshift\n",
    "with psycopg2.connect(my_conn_string) as my_conn:  # Using a with statment avoids having to remember to close the connection\n",
    "    \n",
    "    # Create a curor.  A cursor is used to execute SQL.\n",
    "    my_cursor = my_conn.cursor();\n",
    "\n",
    "    # Execute the SQL\n",
    "    my_cursor.execute(\"Select * from pg_tables limit 10;\")  # Cursor documentation here  http://initd.org/psycopg/docs/cursor.html\n",
    "\n",
    "    # Print the results\n",
    "    for my_record in my_cursor:\n",
    "         pprint.pprint(my_record)"
   ]
  },
  {
   "cell_type": "code",
   "execution_count": null,
   "metadata": {
    "collapsed": false,
    "scrolled": true
   },
   "outputs": [],
   "source": [
    "# Fetch just one row using fetchone()\n",
    "\n",
    "import psycopg2\n",
    "import pprint\n",
    "\n",
    "# Redshift connection string \n",
    "my_conn_string = \"dbname='dev' port='5439' user='masteruser' password='Redshift99' host='examplecluster.cc6n7mrnrrhz.us-west-2.redshift.amazonaws.com'\"  \n",
    "\n",
    "# Open connection to Redshift\n",
    "with psycopg2.connect(my_conn_string) as my_conn:  # Using a with statment avoids having to remember to close the connection\n",
    "    \n",
    "    # Create a curor.  A cursor is used to execute SQL.\n",
    "    my_cursor = my_conn.cursor();\n",
    "\n",
    "    # Execute the SQL\n",
    "    my_cursor.execute(\"Select * from pg_tables;\")  # Cursor documentation here  http://initd.org/psycopg/docs/cursor.html\n",
    "\n",
    "    # Print the results\n",
    "    my_row = my_cursor.fetchone()\n",
    "    \n",
    "    print(my_row)\n"
   ]
  },
  {
   "cell_type": "code",
   "execution_count": null,
   "metadata": {
    "collapsed": false,
    "scrolled": true
   },
   "outputs": [],
   "source": [
    "# Fetch a given number of rows using fetchmany()\n",
    "\n",
    "import psycopg2\n",
    "import pprint\n",
    "\n",
    "# Redshift connection string \n",
    "my_conn_string = \"dbname='dev' port='5439' user='masteruser' password='Redshift99' host='examplecluster.cc6n7mrnrrhz.us-west-2.redshift.amazonaws.com'\"  \n",
    "\n",
    "# Open connection to Redshift\n",
    "with psycopg2.connect(my_conn_string) as my_conn:  # Using a with statment avoids having to remember to close the connection\n",
    "    \n",
    "    # Create a curor.  A cursor is used to execute SQL.\n",
    "    my_cursor = my_conn.cursor();\n",
    "\n",
    "    # Execute the SQL\n",
    "    my_cursor.execute(\"Select * from pg_tables limit 10;\")  # Cursor documentation here  http://initd.org/psycopg/docs/cursor.html\n",
    "\n",
    "    # Fetch all the rows using fetchall()\n",
    "    my_row_list = my_cursor.fetchmany(3)\n",
    "    \n",
    "    # Print the results\n",
    "    pprint.pprint(my_row_list)\n"
   ]
  },
  {
   "cell_type": "code",
   "execution_count": null,
   "metadata": {
    "collapsed": false
   },
   "outputs": [],
   "source": [
    "# Fetch all rows using fetchall()\n",
    "\n",
    "import psycopg2\n",
    "import pprint\n",
    "\n",
    "# Redshift connection string \n",
    "my_conn_string = \"dbname='dev' port='5439' user='masteruser' password='Redshift99' host='examplecluster.cc6n7mrnrrhz.us-west-2.redshift.amazonaws.com'\"  \n",
    "\n",
    "# Open connection to Redshift\n",
    "with psycopg2.connect(my_conn_string) as my_conn:  # Using a with statment avoids having to remember to close the connection\n",
    "    \n",
    "    # Create a curor.  A cursor is used to execute SQL.\n",
    "    my_cursor = my_conn.cursor();\n",
    "\n",
    "    # Execute the SQL\n",
    "    my_cursor.execute(\"Select * from pg_tables limit 5;\")  # Cursor documentation here  http://initd.org/psycopg/docs/cursor.html\n",
    "\n",
    "    # Fetch all the rows using fetchall()\n",
    "    my_row_list = my_cursor.fetchall()\n",
    "    \n",
    "    # Print the results\n",
    "    pprint.pprint(my_row_list)"
   ]
  },
  {
   "cell_type": "code",
   "execution_count": null,
   "metadata": {
    "collapsed": false,
    "scrolled": true
   },
   "outputs": [],
   "source": [
    "# Now we have a regular Python data structure, \n",
    "# we can use normal Python methods to manipulate the data\n",
    "# For example, let's turn the list of rows into \n",
    "# a list of columns using zip(*)\n",
    "\n",
    "my_column_list = list(zip(*my_row_list))\n",
    "pprint.pprint(my_column_list)"
   ]
  },
  {
   "cell_type": "code",
   "execution_count": null,
   "metadata": {
    "collapsed": false,
    "scrolled": true
   },
   "outputs": [],
   "source": [
    "# And just extract the list of table names\n",
    "\n",
    "table_names = my_column_list[1]\n",
    "print(table_names)"
   ]
  },
  {
   "cell_type": "code",
   "execution_count": null,
   "metadata": {
    "collapsed": false
   },
   "outputs": [],
   "source": [
    "# We can find the column names of the table we are selecting from (pg_tables)\n",
    "# using my_cursor.description\n",
    "\n",
    "import psycopg2\n",
    "import pprint\n",
    "\n",
    "# Redshift connection string \n",
    "my_conn_string = \"dbname='dev' port='5439' user='masteruser' password='Redshift99' host='examplecluster.cc6n7mrnrrhz.us-west-2.redshift.amazonaws.com'\"  \n",
    "\n",
    "# Open connection to Redshift\n",
    "with psycopg2.connect(my_conn_string) as my_conn:  # Using a with statment avoids having to remember to close the connection\n",
    "    \n",
    "    # Create a curor.  A cursor is used to execute SQL.\n",
    "    my_cursor = my_conn.cursor();\n",
    "\n",
    "    # Execute the SQL\n",
    "    my_cursor.execute(\"Select * from pg_tables limit 5;\")  # Cursor documentation here  http://initd.org/psycopg/docs/cursor.html\n",
    "\n",
    "    # Fetch all the rows using fetchall()\n",
    "    column_names = [desc[0] for desc in my_cursor.description]\n",
    "    \n",
    "    print(column_names)"
   ]
  },
  {
   "cell_type": "code",
   "execution_count": null,
   "metadata": {
    "collapsed": true
   },
   "outputs": [],
   "source": [
    "# To save repeating code, we can wrap our DB\n",
    "# access code in a function\n",
    "# Execute this code before moving on\n",
    "\n",
    "def run_sql(my_sql, db_name):\n",
    "    import psycopg2\n",
    "    import pprint\n",
    "\n",
    "    # Redshift connection string \n",
    "    my_conn_string = \"dbname='\"+db_name+\"' port='5439' user='masteruser' password='Redshift99' host='examplecluster.cc6n7mrnrrhz.us-west-2.redshift.amazonaws.com'\"  \n",
    "\n",
    "    # Open connection to Redshift\n",
    "    with psycopg2.connect(my_conn_string) as my_conn:  # Using a with statement avoids having to remember to close the connection\n",
    "\n",
    "        # Create a curor.  A cursor is used to execute SQL.\n",
    "        my_cursor = my_conn.cursor();\n",
    "\n",
    "        # Execute the SQL\n",
    "        my_cursor.execute(my_sql)  # Cursor documentation here  http://initd.org/psycopg/docs/cursor.html\n",
    "        try:\n",
    "            return my_cursor.fetchall()\n",
    "        except:\n",
    "            print('SQL ran successfully, no results were returned')  # If it doesn't execute, exception will be raised before this.\n",
    "            return None"
   ]
  },
  {
   "cell_type": "code",
   "execution_count": null,
   "metadata": {
    "collapsed": false
   },
   "outputs": [],
   "source": [
    "# Testing our run_sql function\n",
    "\n",
    "import pprint\n",
    "result = run_sql(\"Select * from pg_tables limit 10;\", db_name='dev')\n",
    "pprint.pprint(result)"
   ]
  },
  {
   "cell_type": "code",
   "execution_count": null,
   "metadata": {
    "collapsed": false
   },
   "outputs": [],
   "source": [
    "# CREATING table\n",
    "# First create a new database pythondb using SQL Workbench/J\n",
    "\n",
    "run_sql(\"CREATE TABLE test_table_5 (int_col int, str_col varchar(50));\", db_name='python_db')\n"
   ]
  },
  {
   "cell_type": "code",
   "execution_count": null,
   "metadata": {
    "collapsed": false,
    "scrolled": false
   },
   "outputs": [],
   "source": [
    "run_sql(\"INSERT INTO test_table_5 (int_col, str_col) VALUES(100, 'One Hundred');\", db_name='python_db')"
   ]
  },
  {
   "cell_type": "code",
   "execution_count": null,
   "metadata": {
    "collapsed": false,
    "scrolled": true
   },
   "outputs": [],
   "source": [
    "import pprint\n",
    "\n",
    "my_dict = {200: 'Two Hundred',\n",
    "          300: 'Three Hundred',\n",
    "          400: 'Four Hundred',\n",
    "          500: 'Five Hundred'}\n",
    "\n",
    "my_sql_string_list = [\"INSERT INTO test_table_5 (int_col, str_col) VALUES(\"+str(my_key)+\", '\"+my_dict[my_key]+\"');\"\n",
    "               for my_key in my_dict.keys()]\n",
    "\n",
    "pprint.pprint(my_sql_string_list)"
   ]
  },
  {
   "cell_type": "code",
   "execution_count": null,
   "metadata": {
    "collapsed": false
   },
   "outputs": [],
   "source": [
    "for my_sql_string in my_sql_string_list:\n",
    "    run_sql(my_sql_string, db_name='python_db')"
   ]
  },
  {
   "cell_type": "code",
   "execution_count": null,
   "metadata": {
    "collapsed": false
   },
   "outputs": [],
   "source": [
    "run_sql(\"SELECT * from  test_table_5 order by int_col;\", db_name='python_db')"
   ]
  },
  {
   "cell_type": "code",
   "execution_count": null,
   "metadata": {
    "collapsed": true
   },
   "outputs": [],
   "source": [
    "# SQL runs slowly though, as each time a new connection is opened\n",
    "# Let's create a new function to run a list of SQL statements"
   ]
  },
  {
   "cell_type": "code",
   "execution_count": null,
   "metadata": {
    "collapsed": true
   },
   "outputs": [],
   "source": [
    "def run_sql_list(my_sql_list, db_name):  # Takes a list of SQL strings, as opposed to single SQL string. Better for inserts\n",
    "    import psycopg2\n",
    "    import pprint\n",
    "\n",
    "    # Redshift connection string \n",
    "    my_conn_string = \"dbname='\"+db_name+\"' port='5439' user='masteruser' password='Redshift99' host='examplecluster.cc6n7mrnrrhz.us-west-2.redshift.amazonaws.com'\"  \n",
    "\n",
    "    # Open connection to Redshift\n",
    "    with psycopg2.connect(my_conn_string) as my_conn:  # Using a with statment avoids having to remember to close the connection\n",
    "\n",
    "        # Create a curor.  A cursor is used to execute SQL.\n",
    "        my_cursor = my_conn.cursor();\n",
    "\n",
    "        # Execute the SQL\n",
    "        for my_sql_string in my_sql_list:\n",
    "            my_cursor.execute(my_sql_string)  \n",
    "            \n",
    "        print(\"SQL ran successfully. No results returned\")  # If it doesn't execute, exception will be raised before this."
   ]
  },
  {
   "cell_type": "code",
   "execution_count": null,
   "metadata": {
    "collapsed": false
   },
   "outputs": [],
   "source": [
    "import pprint\n",
    "\n",
    "my_dict = {1: 'One',\n",
    "          2: 'Two',\n",
    "          3: 'Three',\n",
    "          4: 'Four'}\n",
    "\n",
    "my_sql_string_list = [\"INSERT INTO test_table_5 (int_col, str_col) VALUES(\"+str(my_key)+\", '\"+my_dict[my_key]+\"');\"\n",
    "               for my_key in my_dict.keys()]\n",
    "\n",
    "pprint.pprint(my_sql_string_list)"
   ]
  },
  {
   "cell_type": "code",
   "execution_count": null,
   "metadata": {
    "collapsed": false,
    "scrolled": true
   },
   "outputs": [],
   "source": [
    "run_sql_list(my_sql_string_list, db_name='python_db')"
   ]
  },
  {
   "cell_type": "code",
   "execution_count": null,
   "metadata": {
    "collapsed": false
   },
   "outputs": [],
   "source": [
    "run_sql(\"SELECT * from  test_table_5 order by int_col;\", db_name='python_db')"
   ]
  },
  {
   "cell_type": "code",
   "execution_count": null,
   "metadata": {
    "collapsed": true
   },
   "outputs": [],
   "source": [
    "# ADDITIONAL QUERIES"
   ]
  },
  {
   "cell_type": "code",
   "execution_count": null,
   "metadata": {
    "collapsed": false
   },
   "outputs": [],
   "source": [
    "# Raise human readable exception if unable to connect to the database\n",
    "# Note - this will not give you as much debug information as allowing the exception to happen.\n",
    "\n",
    "import psycopg2\n",
    "\n",
    "try:\n",
    "    conn = psycopg2.connect(\"dbname='template1' user='dbuser' host='localhost' password='dbpass'\")\n",
    "except:\n",
    "    print \"I am unable to connect to the database\""
   ]
  }
 ],
 "metadata": {
  "anaconda-cloud": {},
  "kernelspec": {
   "display_name": "Python [conda env:headless]",
   "language": "python",
   "name": "conda-env-headless-py"
  },
  "language_info": {
   "codemirror_mode": {
    "name": "ipython",
    "version": 3
   },
   "file_extension": ".py",
   "mimetype": "text/x-python",
   "name": "python",
   "nbconvert_exporter": "python",
   "pygments_lexer": "ipython3",
   "version": "3.5.2"
  }
 },
 "nbformat": 4,
 "nbformat_minor": 1
}
