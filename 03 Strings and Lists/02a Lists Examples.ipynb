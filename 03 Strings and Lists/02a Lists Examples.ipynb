{
 "cells": [
  {
   "cell_type": "code",
   "execution_count": null,
   "metadata": {
    "collapsed": true
   },
   "outputs": [],
   "source": [
    "# LISTS"
   ]
  },
  {
   "cell_type": "code",
   "execution_count": null,
   "metadata": {
    "collapsed": false
   },
   "outputs": [],
   "source": [
    "# Printing\n",
    "\n",
    "my_list = ['a', 'b', 'c']\n",
    "print(my_list)"
   ]
  },
  {
   "cell_type": "code",
   "execution_count": null,
   "metadata": {
    "collapsed": false
   },
   "outputs": [],
   "source": [
    "# Iterating\n",
    "# Convert to uppercase with .upper()\n",
    "\n",
    "for my_char in my_list:\n",
    "    print(my_char)"
   ]
  },
  {
   "cell_type": "code",
   "execution_count": null,
   "metadata": {
    "collapsed": false
   },
   "outputs": [],
   "source": [
    "# Slicing\n",
    "# my_list[from: to: step]\n",
    "\n",
    "string_list = ['hello', 'there']\n",
    "print(string_list[1])"
   ]
  },
  {
   "cell_type": "code",
   "execution_count": null,
   "metadata": {
    "collapsed": true
   },
   "outputs": [],
   "source": [
    "new_list = ['hello', 'there'][::-1]\n",
    "print(new_list)"
   ]
  },
  {
   "cell_type": "code",
   "execution_count": null,
   "metadata": {
    "collapsed": false,
    "scrolled": true
   },
   "outputs": [],
   "source": [
    "# Checking for items with 'in'\n",
    "\n",
    "print('a' in ['f', 'l', 'a', 'g'])"
   ]
  },
  {
   "cell_type": "code",
   "execution_count": null,
   "metadata": {
    "collapsed": false,
    "scrolled": true
   },
   "outputs": [],
   "source": [
    "print('z' not in ['f', 'l', 'a', 'g'])"
   ]
  },
  {
   "cell_type": "code",
   "execution_count": null,
   "metadata": {
    "collapsed": false,
    "scrolled": true
   },
   "outputs": [],
   "source": [
    "# Finding location of an item\n",
    "\n",
    "print(['Once', 'upon', 'a', 'time'].index('time'))"
   ]
  },
  {
   "cell_type": "code",
   "execution_count": null,
   "metadata": {
    "collapsed": false
   },
   "outputs": [],
   "source": [
    "# Splitting contents into individual variables\n",
    "\n",
    "first, second, third = ['apple', 'banana', 'clemantine']\n",
    "print(second)"
   ]
  },
  {
   "cell_type": "code",
   "execution_count": null,
   "metadata": {
    "collapsed": false
   },
   "outputs": [],
   "source": [
    "# Extending lists\n",
    "# Type list. Tab to find methods we can\n",
    "# apply to lists\n",
    "\n",
    "my_list = [1, 2, 3]\n",
    "my_list.append(4)\n",
    "print(my_list)"
   ]
  },
  {
   "cell_type": "code",
   "execution_count": null,
   "metadata": {
    "collapsed": false,
    "scrolled": true
   },
   "outputs": [],
   "source": [
    "my_list.append([5, 6])  \n",
    "print(my_list)\n",
    "# Does not give the result we intended"
   ]
  },
  {
   "cell_type": "code",
   "execution_count": null,
   "metadata": {
    "collapsed": false
   },
   "outputs": [],
   "source": [
    "my_list.remove([5, 6])\n",
    "print(my_list)"
   ]
  },
  {
   "cell_type": "code",
   "execution_count": null,
   "metadata": {
    "collapsed": false
   },
   "outputs": [],
   "source": [
    "my_list.extend([5, 6])\n",
    "print(my_list)"
   ]
  },
  {
   "cell_type": "code",
   "execution_count": null,
   "metadata": {
    "collapsed": false
   },
   "outputs": [],
   "source": [
    "new_list = my_list + [7, 8]\n",
    "print(new_list)"
   ]
  },
  {
   "cell_type": "code",
   "execution_count": null,
   "metadata": {
    "collapsed": false,
    "scrolled": true
   },
   "outputs": [],
   "source": [
    "new_list += [9, 10]\n",
    "print(new_list)"
   ]
  },
  {
   "cell_type": "code",
   "execution_count": null,
   "metadata": {
    "collapsed": false
   },
   "outputs": [],
   "source": [
    "# Sorting\n",
    "\n",
    "my_list = [77, 55, 88, 22]\n",
    "my_list.sort()\n",
    "print(my_list)"
   ]
  },
  {
   "cell_type": "code",
   "execution_count": null,
   "metadata": {
    "collapsed": false
   },
   "outputs": [],
   "source": [
    "# Reverse sorting\n",
    "\n",
    "my_list.sort(reverse=True)\n",
    "print(my_list)"
   ]
  },
  {
   "cell_type": "code",
   "execution_count": null,
   "metadata": {
    "collapsed": false
   },
   "outputs": [],
   "source": [
    "# Aggregates of numeric lists\n",
    "\n",
    "my_int_list = [1, 2, 3]\n",
    "print(max(my_int_list))"
   ]
  },
  {
   "cell_type": "code",
   "execution_count": null,
   "metadata": {
    "collapsed": false
   },
   "outputs": [],
   "source": [
    "print(min(my_int_list))"
   ]
  },
  {
   "cell_type": "code",
   "execution_count": null,
   "metadata": {
    "collapsed": false,
    "scrolled": true
   },
   "outputs": [],
   "source": [
    "print(sum(my_int_list))"
   ]
  },
  {
   "cell_type": "code",
   "execution_count": null,
   "metadata": {
    "collapsed": false
   },
   "outputs": [],
   "source": [
    "# Splitting a string into a list of words\n",
    "# By default it splits on a space\n",
    "\n",
    "my_string = 'Some text'\n",
    "new_list = my_string.split()\n",
    "print(new_list)\n"
   ]
  },
  {
   "cell_type": "code",
   "execution_count": null,
   "metadata": {
    "collapsed": false
   },
   "outputs": [],
   "source": [
    "# Splitting a string into a list of words or characters\n",
    "\n",
    "url_string = 'www.bbc.co.uk/news/123'\n",
    "url_list = url_string.split('/')\n",
    "print(url_list)"
   ]
  },
  {
   "cell_type": "code",
   "execution_count": null,
   "metadata": {
    "collapsed": false,
    "scrolled": true
   },
   "outputs": [],
   "source": [
    "# Converting from list to string\n",
    "\n",
    "url_list = ['www.bbc.co.uk', 'news', '123']\n",
    "url_string = '/'.join(url_list)\n",
    "print(url_string)\n"
   ]
  },
  {
   "cell_type": "code",
   "execution_count": null,
   "metadata": {
    "collapsed": false
   },
   "outputs": [],
   "source": [
    "# Splitting a string into a list of characters\n",
    "\n",
    "my_string = 'Some text'\n",
    "new_list = list(my_string)\n",
    "print(new_list)"
   ]
  },
  {
   "cell_type": "code",
   "execution_count": null,
   "metadata": {
    "collapsed": true
   },
   "outputs": [],
   "source": []
  }
 ],
 "metadata": {
  "kernelspec": {
   "display_name": "Python [conda env:headless]",
   "language": "python",
   "name": "conda-env-headless-py"
  },
  "language_info": {
   "codemirror_mode": {
    "name": "ipython",
    "version": 3
   },
   "file_extension": ".py",
   "mimetype": "text/x-python",
   "name": "python",
   "nbconvert_exporter": "python",
   "pygments_lexer": "ipython3",
   "version": "3.5.2"
  },
  "widgets": {
   "state": {
    "1c4bc1d54a994382b81f758a650868e4": {
     "views": [
      {
       "cell_index": 0
      }
     ]
    },
    "5cb3d6d3c10440e3940257589c301bc0": {
     "views": [
      {
       "cell_index": 0
      }
     ]
    },
    "85961102a44346eba2bd28533709027d": {
     "views": [
      {
       "cell_index": 0
      }
     ]
    },
    "86014412e2b4436892ac99c6811a553f": {
     "views": [
      {
       "cell_index": 0
      }
     ]
    },
    "9d3cf4784fec42c3afd93d4de321cb37": {
     "views": [
      {
       "cell_index": 0
      }
     ]
    },
    "a1ec4c2bc4e844f2933371a9e14fb4a8": {
     "views": [
      {
       "cell_index": 0
      }
     ]
    },
    "a995b13aac8f44dd83ad00c5057df696": {
     "views": [
      {
       "cell_index": 0
      }
     ]
    },
    "f5ab7c9db90c485bb82048b0b81785e8": {
     "views": [
      {
       "cell_index": 0
      }
     ]
    }
   },
   "version": "1.2.0"
  }
 },
 "nbformat": 4,
 "nbformat_minor": 1
}
