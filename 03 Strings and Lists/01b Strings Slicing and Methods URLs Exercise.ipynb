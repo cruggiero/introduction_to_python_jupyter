{
 "cells": [
  {
   "cell_type": "code",
   "execution_count": null,
   "metadata": {
    "collapsed": true
   },
   "outputs": [],
   "source": [
    "# Strings exercise - URLs"
   ]
  },
  {
   "cell_type": "code",
   "execution_count": null,
   "metadata": {
    "collapsed": true
   },
   "outputs": [],
   "source": [
    "# Use slicing to print out the charcaters \n",
    "# from 'www' to the end of the string in a URL"
   ]
  },
  {
   "cell_type": "code",
   "execution_count": null,
   "metadata": {
    "collapsed": false
   },
   "outputs": [],
   "source": [
    "# Update the code below to find the \n",
    "# position of 'www' in this string:\n",
    "\n",
    "s = 'http://www.bbc.co.uk/news'\n",
    "\n",
    "#add your code here\n",
    "start_pos =    \n",
    "print(start_pos)\n",
    "\n",
    "# Hint - type str.f then press the\n",
    "# Tab key to find all the available \n",
    "# string methods starting with f."
   ]
  },
  {
   "cell_type": "code",
   "execution_count": null,
   "metadata": {
    "collapsed": false
   },
   "outputs": [],
   "source": [
    "# Now use the variable start_pos,  \n",
    "# inside the square brackets of a slice, \n",
    "# to print all characters from the \n",
    "# start of 'www' to the end of the string.\n",
    "\n"
   ]
  },
  {
   "cell_type": "code",
   "execution_count": null,
   "metadata": {
    "collapsed": false
   },
   "outputs": [],
   "source": [
    "# Now let's write some code to find the \n",
    "# final word in the same URL. In this case 'news'\n",
    "# \n",
    "# First let's find the position of the final '/' \n",
    "# character in the string.\n",
    "# The method we want starts with 'r', so type\n",
    "# s.r then Tab to find all methods starting with 'r'\n",
    "\n",
    "# Add your code here:\n",
    "slash_pos = s.r\n",
    "print(slash_pos)"
   ]
  },
  {
   "cell_type": "code",
   "execution_count": null,
   "metadata": {
    "collapsed": false,
    "scrolled": true
   },
   "outputs": [],
   "source": [
    "# Now slice the string using the tab_pos variable\n",
    "# to obtain all characters up to the end of the string.\n"
   ]
  },
  {
   "cell_type": "code",
   "execution_count": null,
   "metadata": {
    "collapsed": true
   },
   "outputs": [],
   "source": [
    "# Use the .replace() method to \n",
    "# replace the 'in' with 'oun' in the word 'finding'\n",
    "# and convert it to the word 'founding'\n",
    "# Type str.replace, then press the tab key, to \n",
    "# find out how to only replace the first\n",
    "# occurrence of the word 'in'\n",
    "\n",
    "print('finding'."
   ]
  },
  {
   "cell_type": "code",
   "execution_count": null,
   "metadata": {
    "collapsed": true
   },
   "outputs": [],
   "source": [
    "# Test whether the following URL contains the word 'radio'\n",
    "# using the 'in' syntax\n",
    "\n",
    "my_url = 'http://www.bbc.co.uk/radio/123'\n",
    "print()\n",
    "\n",
    "# Hint - the syntax for 'in' is different from the others.\n",
    "# Google 'python in string' if stuck."
   ]
  },
  {
   "cell_type": "code",
   "execution_count": null,
   "metadata": {
    "collapsed": false
   },
   "outputs": [],
   "source": [
    "# If time:\n",
    "#\n",
    "# Complete the following code to \n",
    "# create a function that takes\n",
    "# any URL and prints out the final part\n",
    "# after the last backslash.\n",
    "\n",
    "def print_final_part_of_url(my_url):\n",
    "    # Write your code here\n",
    "\n",
    "# Test it on the following URLs:\n",
    "print_final_part_of_url('www.bbc.co.uk/weather')\n",
    "print_final_part_of_url(' www.bbc.co.uk/sport \\n')\n",
    "print_final_part_of_url('\\t\\t\\n  http://www.bbc.co.uk/news/uk-38486907\\t \\t \\n\\t \\n\\t \\n')\n",
    "\n",
    "# Some of the test URLs contain spaces newlines and tabs\n",
    "# Alter your method to strip this white space off the urls.\n"
   ]
  },
  {
   "cell_type": "code",
   "execution_count": null,
   "metadata": {
    "collapsed": false
   },
   "outputs": [],
   "source": [
    "# How few lines of code can you reduce your function to?\n",
    "# Can you reduce the entire function two two lines including the def: line?\n",
    "# Which version is the most understandable?\n",
    "\n",
    "def print_final_part_of_url(my_url):\n",
    "    \n",
    "print_final_part_of_url('www.bbc.co.uk/weather')\n",
    "print_final_part_of_url(' www.bbc.co.uk/sport \\n')\n",
    "print_final_part_of_url('\\t\\t\\n  http://www.bbc.co.uk/news/uk-38486907\\t \\t \\n\\t \\n\\t \\n')\n"
   ]
  }
 ],
 "metadata": {
  "anaconda-cloud": {},
  "kernelspec": {
   "display_name": "Python [conda env:headless]",
   "language": "python",
   "name": "conda-env-headless-py"
  },
  "language_info": {
   "codemirror_mode": {
    "name": "ipython",
    "version": 3
   },
   "file_extension": ".py",
   "mimetype": "text/x-python",
   "name": "python",
   "nbconvert_exporter": "python",
   "pygments_lexer": "ipython3",
   "version": "3.5.2"
  }
 },
 "nbformat": 4,
 "nbformat_minor": 1
}
