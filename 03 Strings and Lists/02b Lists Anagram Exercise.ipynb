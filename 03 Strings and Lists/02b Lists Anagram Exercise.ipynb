{
 "cells": [
  {
   "cell_type": "code",
   "execution_count": null,
   "metadata": {
    "collapsed": true
   },
   "outputs": [],
   "source": [
    "# Anagrams\n",
    "\n",
    "# Write a function to determine if two strings are anagrams of each other\n",
    "# Once complete, the function will take in a single argument which is list\n",
    "# of two strings.  It will return true if one is an anagram of the other, ignoring case.\n",
    "test_anagram(['School master', 'The classroom'])"
   ]
  },
  {
   "cell_type": "code",
   "execution_count": null,
   "metadata": {
    "collapsed": false
   },
   "outputs": [],
   "source": [
    "# First split list_of_two_strings out into two variables called string_1 and string_2\n",
    "# Refer to the cell 'Splitting contents into individual variables'\n",
    "# on the example notebook for the syntax.\n",
    "# Print the values of the variables to check they contain the values you expect\n",
    "\n",
    "list_of_two_strings = ['School master', 'The classroom']\n",
    "# Add your code here\n"
   ]
  },
  {
   "cell_type": "code",
   "execution_count": null,
   "metadata": {
    "collapsed": false
   },
   "outputs": [],
   "source": [
    "# Now create two new strings string_1_lower and string_2_lower\n",
    "# which contain lower-case version (a = str.lower())\n",
    "\n",
    "# Add your code here"
   ]
  },
  {
   "cell_type": "code",
   "execution_count": null,
   "metadata": {
    "collapsed": false
   },
   "outputs": [],
   "source": [
    "# Now create another two variables char_list_1 and char_list_2\n",
    "# Use the list() function to convert the lower case strings into \n",
    "# lists of characters\n",
    "\n",
    "# Add your code here"
   ]
  },
  {
   "cell_type": "code",
   "execution_count": null,
   "metadata": {
    "collapsed": false,
    "scrolled": true
   },
   "outputs": [],
   "source": [
    "# Sort the list of characters using str.sort()\n",
    "# No need to assign to a new variable \n",
    "# this time, as strings are mutable\n",
    "# and this sorts the list in place.\n",
    "\n",
    "# Add your code here"
   ]
  },
  {
   "cell_type": "code",
   "execution_count": null,
   "metadata": {
    "collapsed": false,
    "scrolled": true
   },
   "outputs": [],
   "source": [
    "# Check if the two sorted character lists match\n",
    "# each other using ==\n",
    "# and if so print 'Match Found'\n",
    "# else print 'No Match\n",
    "\n",
    "# Add your code here"
   ]
  },
  {
   "cell_type": "code",
   "execution_count": null,
   "metadata": {
    "collapsed": true
   },
   "outputs": [],
   "source": [
    "# Now wrap all the code together into a function called\n",
    "# test_anagram()\n",
    "# The function should take a single parameter called\n",
    "# list_of_two_strings\n",
    "# Remember the syntax for declaring a function is:\n",
    "# def function_name(parameter):\n",
    "#     ..."
   ]
  },
  {
   "cell_type": "code",
   "execution_count": null,
   "metadata": {
    "collapsed": false
   },
   "outputs": [],
   "source": []
  },
  {
   "cell_type": "code",
   "execution_count": null,
   "metadata": {
    "collapsed": false
   },
   "outputs": [],
   "source": [
    "# Test the code using the following examples.\n",
    "# The final example should print 'No Anagram'.\n",
    "\n",
    "test_anagram(['Eleven plus two', 'Twelve plus one'])\n",
    "test_anagram(['The Morse code', 'Here come dots'])\n",
    "test_anagram(['Some text', 'Other text not an anagram'])\n"
   ]
  },
  {
   "cell_type": "code",
   "execution_count": null,
   "metadata": {
    "collapsed": true
   },
   "outputs": [],
   "source": [
    "# If time\n",
    "# \n",
    "# It is not good practice to repeat code\n",
    "# 'DRY' principle (Do not Repeat Yourself)\n",
    "# but we have repeated a number of lines here.\n",
    "# How could we refactor the code to remove\n",
    "# the duplicate lines?\n",
    "# Hint: create another function"
   ]
  },
  {
   "cell_type": "code",
   "execution_count": null,
   "metadata": {
    "collapsed": false
   },
   "outputs": [],
   "source": [
    "\n",
    "        \n",
    "test_anagram(['School master', 'The classroom'])"
   ]
  },
  {
   "cell_type": "code",
   "execution_count": null,
   "metadata": {
    "collapsed": false
   },
   "outputs": [],
   "source": [
    "# If time, adapt to remove spaces, so this example gives a match\n",
    "# Hint - first split the string into words using .split(' ')\n",
    "# Then rejoin it without spaces using ''.join(word_list)\n",
    "# my_list.remove(' ') does not work as it only removes\n",
    "# the first matching item\n",
    "\n",
    "        \n",
    "test_anagram(['Snooze alarms', 'Alas No more Zs'])"
   ]
  },
  {
   "cell_type": "code",
   "execution_count": null,
   "metadata": {
    "collapsed": true
   },
   "outputs": [],
   "source": []
  }
 ],
 "metadata": {
  "anaconda-cloud": {},
  "kernelspec": {
   "display_name": "Python [conda env:headless]",
   "language": "python",
   "name": "conda-env-headless-py"
  },
  "language_info": {
   "codemirror_mode": {
    "name": "ipython",
    "version": 3
   },
   "file_extension": ".py",
   "mimetype": "text/x-python",
   "name": "python",
   "nbconvert_exporter": "python",
   "pygments_lexer": "ipython3",
   "version": "3.5.2"
  }
 },
 "nbformat": 4,
 "nbformat_minor": 1
}
