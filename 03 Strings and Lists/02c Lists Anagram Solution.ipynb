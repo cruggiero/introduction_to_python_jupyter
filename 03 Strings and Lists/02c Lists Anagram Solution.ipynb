{
 "cells": [
  {
   "cell_type": "code",
   "execution_count": null,
   "metadata": {
    "collapsed": true
   },
   "outputs": [],
   "source": [
    "# Anagrams\n",
    "\n",
    "# Write a function to determine if two strings are anagrams of each other\n",
    "# Once complete, the function will take in a single argument which is list\n",
    "# of two strings.  It will return true if one is an anagram of the other, ignoring case.\n",
    "test_anagram(['School master', 'The classroom'])"
   ]
  },
  {
   "cell_type": "code",
   "execution_count": null,
   "metadata": {
    "collapsed": false
   },
   "outputs": [],
   "source": [
    "# First split list_of_two_strings out into two variables called string_1 and string_2\n",
    "# Refer to the cell 'Splitting contents into individual variables'\n",
    "# on the example notebook for the syntax.\n",
    "# Print the values of the variables to check they contain the values you expect\n",
    "\n",
    "list_of_two_strings = ['School master', 'The classroom']\n",
    "string_1, string_2 = list_of_two_strings\n",
    "print(string_1)"
   ]
  },
  {
   "cell_type": "code",
   "execution_count": null,
   "metadata": {
    "collapsed": false
   },
   "outputs": [],
   "source": [
    "# Now create two new strings string_1_lower and string_2_lower\n",
    "# which contain lower-case version (a = str.lower())\n",
    "\n",
    "string_1_lower = string_1.lower()\n",
    "string_2_lower = string_2.lower()\n",
    "print(string_1.lower())"
   ]
  },
  {
   "cell_type": "code",
   "execution_count": null,
   "metadata": {
    "collapsed": false
   },
   "outputs": [],
   "source": [
    "# Now create another two variables char_list_1 and char_list_2\n",
    "# Use the list() function to convert the lower case strings into \n",
    "# lists of characters\n",
    "\n",
    "char_list_1 = list(string_1_lower)\n",
    "char_list_2 = list(string_2_lower)\n",
    "print(char_list_1)"
   ]
  },
  {
   "cell_type": "code",
   "execution_count": null,
   "metadata": {
    "collapsed": false,
    "scrolled": true
   },
   "outputs": [],
   "source": [
    "# Sort the list of characters using str.sort()\n",
    "# No need to assign to a new variable \n",
    "# this time, as strings are mutable\n",
    "# and this sorts the list in place.\n",
    "\n",
    "char_list_1.sort()\n",
    "char_list_2.sort()\n",
    "print(char_list_1)\n",
    "print(char_list_2)"
   ]
  },
  {
   "cell_type": "code",
   "execution_count": null,
   "metadata": {
    "collapsed": false,
    "scrolled": true
   },
   "outputs": [],
   "source": [
    "# Check if the two sorted character lists match\n",
    "# each other using ==\n",
    "# and if so print 'Match Found'\n",
    "# else print 'No Match\n",
    "\n",
    "if(char_list_1 == char_list_2):\n",
    "    print('Anagram Found')\n",
    "else:\n",
    "    print('No Anagram')"
   ]
  },
  {
   "cell_type": "code",
   "execution_count": null,
   "metadata": {
    "collapsed": true
   },
   "outputs": [],
   "source": [
    "# Now wrap all the code together into a function called\n",
    "# test_anagram()\n",
    "# The function should take a single parameter called\n",
    "# list_of_two_strings\n",
    "# Remember the syntax for declaring a function is:\n",
    "# def function_name(parameters):\n",
    "#     ..."
   ]
  },
  {
   "cell_type": "code",
   "execution_count": null,
   "metadata": {
    "collapsed": false
   },
   "outputs": [],
   "source": [
    "def test_anagram(list_of_two_strings):\n",
    "    string_1, string_2 = list_of_two_strings\n",
    "    string_1_lower = string_1.lower()\n",
    "    string_2_lower = string_2.lower()\n",
    "    char_list_1 = list(string_1_lower)\n",
    "    char_list_2 = list(string_2_lower)\n",
    "    char_list_1.sort()\n",
    "    char_list_2.sort()\n",
    "    if(char_list_1 == char_list_2):\n",
    "        print('Anagram Found')\n",
    "    else:\n",
    "        print('No Anagram')\n",
    "        \n",
    "test_anagram(['School master', 'The classroom'])"
   ]
  },
  {
   "cell_type": "code",
   "execution_count": null,
   "metadata": {
    "collapsed": false
   },
   "outputs": [],
   "source": [
    "# Test the code using the following examples:\n",
    "\n",
    "test_anagram(['Eleven plus two', 'Twelve plus one'])\n",
    "test_anagram(['The Morse code', 'Here come dots'])\n",
    "test_anagram(['Some text', 'Other text not an anagram'])\n"
   ]
  },
  {
   "cell_type": "code",
   "execution_count": null,
   "metadata": {
    "collapsed": true
   },
   "outputs": [],
   "source": [
    "# If time, it is not good practice to repeat code\n",
    "# 'DRY' principle (Do not Repeat Yourself)\n",
    "# but we have repeated a number of lines here.\n",
    "# How could we refactor the code to remove\n",
    "# the duplicate lines?\n",
    "# Hint: create another function"
   ]
  },
  {
   "cell_type": "code",
   "execution_count": null,
   "metadata": {
    "collapsed": false
   },
   "outputs": [],
   "source": [
    "def convert_to_sorted_list(a_string):\n",
    "    my_list = list(a_string.lower())\n",
    "    my_list.sort()\n",
    "    return(my_list)\n",
    "\n",
    "def test_anagram(list_of_two_strings):\n",
    "    string_1, string_2 = list_of_two_strings\n",
    "    print(convert_to_sorted_list(string_1))\n",
    "    print(convert_to_sorted_list(string_2))\n",
    "    if convert_to_sorted_list(string_1) == convert_to_sorted_list(string_2):\n",
    "        print('Anagram Found')\n",
    "    else:\n",
    "        print('No Anagram')\n",
    "        \n",
    "test_anagram(['School master', 'The classroom'])"
   ]
  },
  {
   "cell_type": "code",
   "execution_count": null,
   "metadata": {
    "collapsed": false
   },
   "outputs": [],
   "source": [
    "# If time, adapt to remove spaces, so this gives a match\n",
    "# Hint - first split the string into words using .split(' ')\n",
    "# Then rejoin it without spaces using ''.join(word_list)\n",
    "# my_list.remove(' ') does not work as it only removes\n",
    "# the first matching item\n",
    "\n",
    "def convert_to_sorted_list(a_string):\n",
    "    word_list = a_string.split(' ')\n",
    "    string_without_spaces = ''.join(word_list)\n",
    "    my_list = list(string_without_spaces.lower())\n",
    "    my_list.sort()\n",
    "    return(my_list)\n",
    "\n",
    "def test_anagram(list_of_two_strings):\n",
    "    string_1, string_2 = list_of_two_strings\n",
    "    print(convert_to_sorted_list(string_1))\n",
    "    print(convert_to_sorted_list(string_2))\n",
    "    if convert_to_sorted_list(string_1) == convert_to_sorted_list(string_2):\n",
    "        print('Anagram Found')\n",
    "    else:\n",
    "        print('No Anagram')\n",
    "        \n",
    "test_anagram(['Snooze alarms', 'Alas No more Zs'])"
   ]
  },
  {
   "cell_type": "code",
   "execution_count": null,
   "metadata": {
    "collapsed": true
   },
   "outputs": [],
   "source": []
  }
 ],
 "metadata": {
  "kernelspec": {
   "display_name": "Python [conda env:headless]",
   "language": "python",
   "name": "conda-env-headless-py"
  },
  "language_info": {
   "codemirror_mode": {
    "name": "ipython",
    "version": 3
   },
   "file_extension": ".py",
   "mimetype": "text/x-python",
   "name": "python",
   "nbconvert_exporter": "python",
   "pygments_lexer": "ipython3",
   "version": "3.5.2"
  }
 },
 "nbformat": 4,
 "nbformat_minor": 1
}
