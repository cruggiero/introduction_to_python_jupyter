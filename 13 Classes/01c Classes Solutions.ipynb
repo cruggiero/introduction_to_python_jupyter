{
 "cells": [
  {
   "cell_type": "code",
   "execution_count": null,
   "metadata": {
    "collapsed": false
   },
   "outputs": [],
   "source": [
    "#  CLASSES, OBJECTS and METHODS\n",
    "\n",
    "# Define a class called Vehicle.\n",
    "# Give it one member variable called max_speed_kph and set it to a default of zero\n",
    "# Define a __repr__ method that returns a string describing the object, including its max_speed\n",
    "# Remember to use self.max_speed_kph when accessing the variable.\n",
    "\n",
    "class Vehicle:   \n",
    "    max_speed_kph = 0     # default max_speed_kph to zero\n",
    "    \n",
    "    def __repr__(self):  # __repr__() is a special METHOD called when the object is printed\n",
    "        return 'Vehicle with max speed '+str(self.max_speed_kph)+ ' kph'"
   ]
  },
  {
   "cell_type": "code",
   "execution_count": null,
   "metadata": {
    "collapsed": false,
    "scrolled": true
   },
   "outputs": [],
   "source": [
    "# Create an object called my_vehicle of class Vehicle.\n",
    "# Print it out and check the __repr__() method is being called correctly.\n",
    "\n",
    "my_vehicle = Vehicle()  # my_dwelling is an OBJECT; an instance of the Dwelling CLASS\n",
    "print(my_vehicle)"
   ]
  },
  {
   "cell_type": "code",
   "execution_count": null,
   "metadata": {
    "collapsed": false,
    "scrolled": true
   },
   "outputs": [],
   "source": [
    "# Set the max speed of my_vehicle to 150 kph.\n",
    "# Print out the vehicle's max speed.\n",
    "\n",
    "my_vehicle.max_speed_kph = 150\n",
    "\n",
    "print(my_vehicle.max_speed_kph)"
   ]
  },
  {
   "cell_type": "code",
   "execution_count": null,
   "metadata": {
    "collapsed": false,
    "scrolled": true
   },
   "outputs": [],
   "source": [
    "# Print the whole vehicle object again.\n",
    "\n",
    "print(my_vehicle)"
   ]
  },
  {
   "cell_type": "code",
   "execution_count": null,
   "metadata": {
    "collapsed": true
   },
   "outputs": [],
   "source": [
    "# SUBCLASS - a car is a type of vehicle\n",
    "#\n",
    "# Create a subclass of the Vehicle class.  Call it Car.\n",
    "# Give it a member variable called no_of_wheels and default it to 4.\n",
    "# Define a __repr__ method that returns a suitable string.\n",
    "\n",
    "class Car(Vehicle):\n",
    "    no_of_wheels = 4\n",
    "    \n",
    "    def __repr__(self):\n",
    "        return 'Car with '+ str(self.no_of_wheels) + ' wheels, max speed = '+ str(self.max_speed_kph)+ ' kph'"
   ]
  },
  {
   "cell_type": "code",
   "execution_count": null,
   "metadata": {
    "collapsed": false,
    "scrolled": true
   },
   "outputs": [],
   "source": [
    "# Create an object my_car of class Car.\n",
    "# Set its max_speed_kph to 150.\n",
    "# Print it.\n",
    "\n",
    "my_car = Car()\n",
    "my_car.max_speed_kph = 150\n",
    "print(my_car)"
   ]
  },
  {
   "cell_type": "code",
   "execution_count": null,
   "metadata": {
    "collapsed": false
   },
   "outputs": [],
   "source": [
    "# SUBCLASS - dual inheritance\n",
    "#\n",
    "# Create a class CamperVan which is a subclass of both Vehicle and Dwelling\n",
    "# Give it a member variable no_of_wheels and set it to 4.\n",
    "\n",
    "class CamperVan(Vehicle, Dwelling):\n",
    "    no_of_wheels = 4\n"
   ]
  },
  {
   "cell_type": "code",
   "execution_count": null,
   "metadata": {
    "collapsed": false,
    "scrolled": true
   },
   "outputs": [],
   "source": [
    "# Create an object my_camper_van of class CamperVan.\n",
    "# Set its rooms to 1 (from the Dwelling class)\n",
    "# Set its max_speed_kph to 100 (from the Vehicle class)\n",
    "# Print it. Note it picks the __repr__() method from the first super class listed.\n",
    "# We could override if this is not the behaviour we want.\n",
    "\n",
    "my_camper_van = CamperVan()\n",
    "my_camper_van.rooms = 1\n",
    "my_camper_van.max_speed_kph = 100\n",
    "print(my_camper_van)"
   ]
  },
  {
   "cell_type": "code",
   "execution_count": null,
   "metadata": {
    "collapsed": false
   },
   "outputs": [],
   "source": [
    "# Print out the number of rooms and the max_speed_kph of the camper van.\n",
    "\n",
    "print(my_camper_van.rooms)\n",
    "print(my_camper_van.max_speed_kph)"
   ]
  }
 ],
 "metadata": {
  "anaconda-cloud": {},
  "kernelspec": {
   "display_name": "Python [conda env:headless]",
   "language": "python",
   "name": "conda-env-headless-py"
  },
  "language_info": {
   "codemirror_mode": {
    "name": "ipython",
    "version": 3
   },
   "file_extension": ".py",
   "mimetype": "text/x-python",
   "name": "python",
   "nbconvert_exporter": "python",
   "pygments_lexer": "ipython3",
   "version": "3.5.2"
  }
 },
 "nbformat": 4,
 "nbformat_minor": 1
}
