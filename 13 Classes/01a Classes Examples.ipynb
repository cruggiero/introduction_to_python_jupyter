{
 "cells": [
  {
   "cell_type": "code",
   "execution_count": null,
   "metadata": {
    "collapsed": false
   },
   "outputs": [],
   "source": [
    "#  CLASSES, OBJECTS and METHODS\n",
    "\n",
    "class Dwelling:   # Dwelling is a CLASS - a template from which objects are made.  Note - class name starts with uppercase\n",
    "    rooms = 1     # Object variable default is 1 room. This can be overriden for each object individually\n",
    "    \n",
    "    def __repr__(self):  # __repr__() is a special METHOD called when the object is printed\n",
    "        return 'Dwelling with '+str(self.rooms)+ ' room(s)'"
   ]
  },
  {
   "cell_type": "code",
   "execution_count": null,
   "metadata": {
    "collapsed": false,
    "scrolled": true
   },
   "outputs": [],
   "source": [
    "my_dwelling = Dwelling()  # my_dwelling is an OBJECT; an instance of the Dwelling CLASS\n",
    "print(my_dwelling)"
   ]
  },
  {
   "cell_type": "code",
   "execution_count": null,
   "metadata": {
    "collapsed": false,
    "scrolled": true
   },
   "outputs": [],
   "source": [
    "my_dwelling.rooms = 3\n",
    "\n",
    "print(my_dwelling.rooms)"
   ]
  },
  {
   "cell_type": "code",
   "execution_count": null,
   "metadata": {
    "collapsed": false,
    "scrolled": true
   },
   "outputs": [],
   "source": [
    "print(my_dwelling)"
   ]
  },
  {
   "cell_type": "code",
   "execution_count": null,
   "metadata": {
    "collapsed": true
   },
   "outputs": [],
   "source": [
    "# SUBCLASS - a house is a type of dwelling\n",
    "\n",
    "class House(Dwelling):\n",
    "    address = '0, zero street, zero town'\n",
    "    \n",
    "    def __repr__(self):\n",
    "        return ('House with '+str(self.rooms) + ' room(s), address: '+self.address)"
   ]
  },
  {
   "cell_type": "code",
   "execution_count": null,
   "metadata": {
    "collapsed": false
   },
   "outputs": [],
   "source": [
    "my_house = House()\n",
    "print(my_house)"
   ]
  },
  {
   "cell_type": "code",
   "execution_count": null,
   "metadata": {
    "collapsed": true
   },
   "outputs": [],
   "source": [
    "# Setting variables\n",
    "my_house.rooms = 6\n",
    "my_house.address = '1 Tower Bridge, London'"
   ]
  },
  {
   "cell_type": "code",
   "execution_count": null,
   "metadata": {
    "collapsed": false
   },
   "outputs": [],
   "source": [
    "print(my_house)"
   ]
  },
  {
   "cell_type": "code",
   "execution_count": null,
   "metadata": {
    "collapsed": true
   },
   "outputs": [],
   "source": [
    "# SUBCLASS - a tent is a type of dwelling\n",
    "\n",
    "class Tent(Dwelling):\n",
    "    poles = 2\n",
    "    \n",
    "    def __repr__(self):\n",
    "        return('Tent with '+str(self.rooms)+ ' room(s) and '+str(self.poles) + ' poles')"
   ]
  },
  {
   "cell_type": "code",
   "execution_count": null,
   "metadata": {
    "collapsed": false,
    "scrolled": true
   },
   "outputs": [],
   "source": [
    "my_tent = Tent()\n",
    "print(my_tent)"
   ]
  },
  {
   "cell_type": "code",
   "execution_count": null,
   "metadata": {
    "collapsed": false
   },
   "outputs": [],
   "source": [
    "# Polymorphism - apply same method to different objects\n",
    "\n",
    "dwelling_list = [my_house, my_tent]\n",
    "for my_dwelling in dwelling_list:\n",
    "    print(my_dwelling)"
   ]
  },
  {
   "cell_type": "code",
   "execution_count": null,
   "metadata": {
    "collapsed": false
   },
   "outputs": [],
   "source": [
    "# Composition - a house can have many doors\n",
    "\n",
    "class House(Dwelling):\n",
    "    address = '0, zero street, zero town'\n",
    "    doors = []\n",
    "    \n",
    "    def add_door(self, a_door):\n",
    "        self.doors.append(a_door)\n",
    "    \n",
    "    def __repr__(self):\n",
    "        return ('House with '+str(len(self.doors))+ ' doors, '+str(self.rooms) + ' room(s), address: '+self.address)"
   ]
  },
  {
   "cell_type": "code",
   "execution_count": null,
   "metadata": {
    "collapsed": false
   },
   "outputs": [],
   "source": [
    "my_house = House()\n",
    "my_house.add_door('front door')\n",
    "my_house.add_door('back door')\n",
    "\n",
    "print(my_house)"
   ]
  },
  {
   "cell_type": "code",
   "execution_count": null,
   "metadata": {
    "collapsed": false
   },
   "outputs": [],
   "source": [
    "# Finding class hierarchies\n",
    "\n",
    "print(House.__mro__)"
   ]
  },
  {
   "cell_type": "code",
   "execution_count": null,
   "metadata": {
    "collapsed": false
   },
   "outputs": [],
   "source": [
    "print(int.__mro__)\n",
    "# print(bool.__mro__)\n",
    "# print(str.__mro__)\n",
    "# print(list.__mro__)\n",
    "# print(tuple.__mro__)\n",
    "# print(dict.__mro__)"
   ]
  },
  {
   "cell_type": "code",
   "execution_count": null,
   "metadata": {
    "collapsed": true
   },
   "outputs": [],
   "source": [
    "# Spin up Oregon, BBC Oct 6 snapshot and ensure live before next exercise"
   ]
  }
 ],
 "metadata": {
  "anaconda-cloud": {},
  "kernelspec": {
   "display_name": "Python [conda env:headless]",
   "language": "python",
   "name": "conda-env-headless-py"
  },
  "language_info": {
   "codemirror_mode": {
    "name": "ipython",
    "version": 3
   },
   "file_extension": ".py",
   "mimetype": "text/x-python",
   "name": "python",
   "nbconvert_exporter": "python",
   "pygments_lexer": "ipython3",
   "version": "3.5.2"
  }
 },
 "nbformat": 4,
 "nbformat_minor": 1
}
