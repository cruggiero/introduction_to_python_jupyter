{
 "cells": [
  {
   "cell_type": "code",
   "execution_count": null,
   "metadata": {
    "collapsed": false,
    "scrolled": true
   },
   "outputs": [],
   "source": [
    "# 1) Raising 2 to different powers using list\n",
    "#\n",
    "# Use a list comprehension to create a new list, \n",
    "# raising two to the power of each number in the list in turn\n",
    "# The result should be [2, 4, 8, 16, 32, ...]\n",
    "# Remember use a**b to raise one number to the power of another.\n",
    "\n",
    "my_list = [1, 2, 3, 4, 5, 6, 7, 8]\n",
    "new_list = [2**i for i in my_list]\n",
    "print(new_list)"
   ]
  },
  {
   "cell_type": "code",
   "execution_count": null,
   "metadata": {
    "collapsed": false,
    "scrolled": true
   },
   "outputs": [],
   "source": [
    "# 2a) Raising 2 to different powers using range()\n",
    "# \n",
    "# Change the list comprehension in the example\n",
    "# above to use a range rather than a list\n",
    "# use the range of numbers from 1 to 10 inclusive\n",
    "\n",
    "new_list = [2**i for i in range(1, 11)]\n",
    "print(new_list)"
   ]
  },
  {
   "cell_type": "code",
   "execution_count": null,
   "metadata": {
    "collapsed": false
   },
   "outputs": [],
   "source": [
    "# 2b) Add an if statement to the list comprehension, \n",
    "# to print only results between \n",
    "# 100 and 1000\n",
    "# Hint, you can use the syntax a < my_number < b\n",
    "\n",
    "new_list = [2**i for i in range(1, 11) if 100 < 2**i < 1000 ]\n",
    "print(new_list)"
   ]
  },
  {
   "cell_type": "code",
   "execution_count": null,
   "metadata": {
    "collapsed": false
   },
   "outputs": [],
   "source": [
    "# 3a) Text processing\n",
    "#\n",
    "# Convert the following sentence to a list of characters using list()\n",
    "# Call the list of characters char_list\n",
    "\n",
    "sentence = 'It was the best of times, it was the worst of times, it was the age of wisdom, it was the age of foolishness, it was the epoch of belief, it was the epoch of incredulity'\n",
    "\n",
    "char_list = list(sentence)\n",
    "print(char_list)"
   ]
  },
  {
   "cell_type": "code",
   "execution_count": null,
   "metadata": {
    "collapsed": false,
    "scrolled": true
   },
   "outputs": [],
   "source": [
    "# 3b)\n",
    "# Create a new list of lowercase characters called new_list, \n",
    "# using str.lower() inside a list comprehension.\n",
    "# Use an if statement inside the list comprehension, to remove any comma characters.\n",
    "\n",
    "new_list = [char.lower() for char in char_list if char != ',']\n",
    "print(new_list)\n"
   ]
  },
  {
   "cell_type": "code",
   "execution_count": null,
   "metadata": {
    "collapsed": false,
    "scrolled": true
   },
   "outputs": [],
   "source": [
    "# If time:\n",
    "#\n",
    "# 3c) Turn the list back into a string called new_string using ''.join()\n",
    "\n",
    "new_string = ''.join(new_list)\n",
    "print(new_string)"
   ]
  },
  {
   "cell_type": "code",
   "execution_count": null,
   "metadata": {
    "collapsed": false,
    "scrolled": true
   },
   "outputs": [],
   "source": [
    "# 3d) Split into a list of words called word_list using str.split()\n",
    "\n",
    "word_list = new_string.split()\n",
    "print(word_list)"
   ]
  },
  {
   "cell_type": "code",
   "execution_count": null,
   "metadata": {
    "collapsed": false,
    "scrolled": true
   },
   "outputs": [],
   "source": [
    "# 3e) Sort the word_list using str.sort()\n",
    "\n",
    "word_list.sort()\n",
    "print(word_list)"
   ]
  },
  {
   "cell_type": "code",
   "execution_count": null,
   "metadata": {
    "collapsed": false,
    "scrolled": true
   },
   "outputs": [],
   "source": [
    "# 3f) Create a uniqe set of words called unique_words using the syntax:\n",
    "# my_set = set(word_list)\n",
    "\n",
    "unique_words = set(word_list)\n",
    "print(my_set)"
   ]
  },
  {
   "cell_type": "code",
   "execution_count": null,
   "metadata": {
    "collapsed": false,
    "scrolled": true
   },
   "outputs": [],
   "source": [
    "# 3g) Now iterate through unique_words using a list comprehension.\n",
    "# For each word, return a list made up of two elements:\n",
    "#   The first item should be the number of occurrences in word_list. Use list.count(str)\n",
    "#   The second item should be the word itself\n",
    "# Call the output list_of_wordcounts\n",
    "# The output should look something like this:\n",
    "# [[1, 'best'], [6, 'of'],  ...]\n",
    "\n",
    "list_of_wordcounts = [[word_list.count(word), word] for word in unique_words]\n",
    "print(list_of_wordcounts)"
   ]
  },
  {
   "cell_type": "code",
   "execution_count": null,
   "metadata": {
    "collapsed": true
   },
   "outputs": [],
   "source": [
    "# 3h) Sort the list in reverse order using list.sort(reverse=True)\n",
    "\n",
    "list_of_wordcounts.sort(reverse=True)\n",
    "print(list_of_wordcounts)"
   ]
  },
  {
   "cell_type": "code",
   "execution_count": null,
   "metadata": {
    "collapsed": false
   },
   "outputs": [],
   "source": [
    "# 3i) Reverse the order of the elements in each two element list \n",
    "# in list_of_wordcounts, using a list comprehension\n",
    "# Hint - try syntax like [ ... for a, b in list]\n",
    "\n",
    "result = [[b, a] for a, b in list_of_wordcounts]\n",
    "print(result)"
   ]
  },
  {
   "cell_type": "code",
   "execution_count": null,
   "metadata": {
    "collapsed": false
   },
   "outputs": [],
   "source": [
    "# 3j) Create a copy of the list comprehension in the cell above.\n",
    "# Modify it to  limit only to words containing the letter 'o',\n",
    "# using an if statement\n",
    "# Then change it to return the word only, like this:\n",
    "# ['of', 'epoch', 'worst', ...\n",
    "\n",
    "result = [word for count, word in list_of_wordcounts if 'o' in word]\n",
    "print(result)"
   ]
  }
 ],
 "metadata": {
  "kernelspec": {
   "display_name": "Python [conda env:headless]",
   "language": "python",
   "name": "conda-env-headless-py"
  },
  "language_info": {
   "codemirror_mode": {
    "name": "ipython",
    "version": 3
   },
   "file_extension": ".py",
   "mimetype": "text/x-python",
   "name": "python",
   "nbconvert_exporter": "python",
   "pygments_lexer": "ipython3",
   "version": "3.5.2"
  }
 },
 "nbformat": 4,
 "nbformat_minor": 1
}
