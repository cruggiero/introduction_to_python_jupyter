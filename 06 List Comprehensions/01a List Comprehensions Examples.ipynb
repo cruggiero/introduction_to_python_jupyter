{
 "cells": [
  {
   "cell_type": "code",
   "execution_count": null,
   "metadata": {
    "collapsed": true
   },
   "outputs": [],
   "source": [
    "# LIST COMPREHENSIONS"
   ]
  },
  {
   "cell_type": "code",
   "execution_count": null,
   "metadata": {
    "collapsed": false
   },
   "outputs": [],
   "source": [
    "# Basic list comprehension\n",
    "# to square numbers\n",
    "\n",
    "my_list = [1, 2, 3, 4]\n",
    "\n",
    "new_list = ...\n",
    "print(new_list)"
   ]
  },
  {
   "cell_type": "code",
   "execution_count": null,
   "metadata": {
    "collapsed": false
   },
   "outputs": [],
   "source": [
    "# Solution for above cell\n",
    "my_list = [1, 2, 3, 4]\n",
    "\n",
    "new_list = [my_int*my_int for my_int in my_list]\n",
    "print(new_list)"
   ]
  },
  {
   "cell_type": "code",
   "execution_count": null,
   "metadata": {
    "collapsed": false,
    "scrolled": true
   },
   "outputs": [],
   "source": [
    "# Works with lists of strings too\n",
    "my_sentence = 'The quick brown fox jumped over the lazy dog'\n",
    "my_word_list = my_sentence.split()\n",
    "print(my_word_list)\n",
    "\n",
    "# select only words containing the letter 'o'\n",
    "filtered_word_list = [...]\n",
    "print(filtered_word_list)\n",
    "\n",
    "# adapt for words greater than 3 characters\n",
    "# convert to upper case\n",
    "# perform all three"
   ]
  },
  {
   "cell_type": "code",
   "execution_count": null,
   "metadata": {
    "collapsed": false
   },
   "outputs": [],
   "source": [
    "# Solution for above cell\n",
    "\n",
    "my_sentence = 'The quick brown fox jumped over the lazy dog'\n",
    "my_word_list = my_sentence.split()\n",
    "print(my_word_list)\n",
    "\n",
    "filtered_word_list = [word for word in my_word_list if 'o' in word]\n",
    "print(filtered_word_list)\n",
    "\n",
    "filtered_word_list = [word for word in my_word_list if len(word) > 3]\n",
    "print(filtered_word_list)\n",
    "\n",
    "filtered_word_list = [word.upper() for word in my_word_list]\n",
    "print(filtered_word_list)\n",
    "\n",
    "filtered_word_list = [word.upper() for word in my_word_list if 'o' in word and len(word) > 3]\n",
    "print(filtered_word_list)"
   ]
  },
  {
   "cell_type": "code",
   "execution_count": null,
   "metadata": {
    "collapsed": true
   },
   "outputs": [],
   "source": [
    "# Squaring numbers for range\n",
    "# Implement list comprehension to square the numbers from 1 to 4.\n",
    "# Remember, ranges include the first number, but exclude the last.\n",
    "\n",
    "new_list = ...\n",
    "print(new_list)\n",
    "\n",
    "# Return a list of lists including the original number\n",
    "# i.e. [[1, 1], [2, 4], [3, 9] ... ]"
   ]
  },
  {
   "cell_type": "code",
   "execution_count": null,
   "metadata": {
    "collapsed": false
   },
   "outputs": [],
   "source": [
    "new_list = [my_int*my_int for my_int in range(1, 5)]\n",
    "print(new_list)\n",
    "\n",
    "new_list = [[my_int, my_int*my_int] for my_int in range(1, 5)]\n",
    "print(new_list)"
   ]
  },
  {
   "cell_type": "code",
   "execution_count": null,
   "metadata": {
    "collapsed": false
   },
   "outputs": [],
   "source": [
    "# Adding an if statement\n",
    "# Complete this list comprehension so it squares\n",
    "# even numbers only\n",
    "\n",
    "my_list = [1, 2, 3, 4, 5, 6]\n",
    "\n",
    "# Add code here to square even numbers only\n",
    "new_list = [my_int*my_int for my_int in my_list ...]\n",
    "print(new_list)"
   ]
  },
  {
   "cell_type": "code",
   "execution_count": null,
   "metadata": {
    "collapsed": true
   },
   "outputs": [],
   "source": [
    "# Solution to cell above\n",
    "\n",
    "my_list = [1, 2, 3, 4, 5, 6]\n",
    "\n",
    "new_list = [my_int*my_int for my_int in my_list\n",
    "            if my_int % 2 == 0]\n",
    "print(new_list)"
   ]
  },
  {
   "cell_type": "code",
   "execution_count": null,
   "metadata": {
    "collapsed": true
   },
   "outputs": [],
   "source": [
    "# The following forms are used \n",
    "# less frequently"
   ]
  },
  {
   "cell_type": "code",
   "execution_count": null,
   "metadata": {
    "collapsed": false
   },
   "outputs": [],
   "source": [
    "# Processing a list of lists using \n",
    "# using list comprehensions\n",
    "\n",
    "big_list = [[1,2], [99,100], [999,1000]]\n",
    "merged_list = [i for small_list in big_list                     \n",
    "               for i in small_list]\n",
    "print(merged_list)"
   ]
  },
  {
   "cell_type": "code",
   "execution_count": null,
   "metadata": {
    "collapsed": false
   },
   "outputs": [],
   "source": [
    "# Cartesian products using\n",
    "# list comprehensions\n",
    "\n",
    "my_list = [[channel, day]\n",
    "    for channel in ['news', 'iPlayer']\n",
    "    for day in ['Mon', 'Tue']]\n",
    "print(my_list)"
   ]
  }
 ],
 "metadata": {
  "anaconda-cloud": {},
  "kernelspec": {
   "display_name": "Python [conda env:headless]",
   "language": "python",
   "name": "conda-env-headless-py"
  },
  "language_info": {
   "codemirror_mode": {
    "name": "ipython",
    "version": 3
   },
   "file_extension": ".py",
   "mimetype": "text/x-python",
   "name": "python",
   "nbconvert_exporter": "python",
   "pygments_lexer": "ipython3",
   "version": "3.5.2"
  }
 },
 "nbformat": 4,
 "nbformat_minor": 1
}
