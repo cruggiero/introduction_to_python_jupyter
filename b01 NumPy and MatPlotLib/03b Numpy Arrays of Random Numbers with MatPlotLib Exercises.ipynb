{
 "cells": [
  {
   "cell_type": "code",
   "execution_count": null,
   "metadata": {
    "collapsed": false,
    "scrolled": true
   },
   "outputs": [],
   "source": [
    "# Plotting different random distributions\n",
    "# \n",
    "# Execute the following code to create a histogram of an exponential distribution\n",
    "\n",
    "import numpy as np\n",
    "import matplotlib.pyplot as plt\n",
    "\n",
    "my_random = np.random.exponential(scale=1.0, size=10000)\n",
    "plt.hist(my_random, bins=50, alpha=0.3)\n",
    "plt.show()"
   ]
  },
  {
   "cell_type": "code",
   "execution_count": null,
   "metadata": {
    "collapsed": false
   },
   "outputs": [],
   "source": [
    "# Copy the code above and modify for logistic distribution\n",
    "# np.random.logistic(loc=0.0, scale=1.0, size=10000)   # 5 values centred on loc=0\n",
    "\n",
    "# Add your code here"
   ]
  },
  {
   "cell_type": "code",
   "execution_count": null,
   "metadata": {
    "collapsed": false
   },
   "outputs": [],
   "source": [
    "# Copy the code above and modify for lognormal distribution\n",
    "# np.random.lognormal(mean=0.0, sigma=1.0, size=10000)\n",
    "\n",
    "# Add your code here"
   ]
  },
  {
   "cell_type": "code",
   "execution_count": null,
   "metadata": {
    "collapsed": false
   },
   "outputs": [],
   "source": [
    "# Copy the code above and modify for poisson distribution\n",
    "# np.random.poisson(lam=1.0, size=10000)\n",
    "\n",
    "# Add your code here"
   ]
  },
  {
   "cell_type": "code",
   "execution_count": null,
   "metadata": {
    "collapsed": false
   },
   "outputs": [],
   "source": [
    "# If time - draw a logistic and a normal distribution on the same chart\n",
    "# Give the distributions the same parameters: (loc=0.0, scale=1.0, size=10000)\n",
    "# When plotting the histogram, set alpha=0.4 so the bars are semi-transparent\n",
    "# and set bins=my_bins (my_bins is defined below)\n",
    "# if time, add labels and a legend.\n",
    "\n",
    "# Add your code here"
   ]
  },
  {
   "cell_type": "code",
   "execution_count": null,
   "metadata": {
    "collapsed": true
   },
   "outputs": [],
   "source": [
    "# If time - copy the code above and add two additional parameters to plt.hist():\n",
    "# cumulative=True, histtype='step'\n",
    "# This will plot the cumulative distribution function or 'CDF', for\n",
    "# the normal and logistic distributions.\n",
    "\n",
    "# Add your code here"
   ]
  }
 ],
 "metadata": {
  "anaconda-cloud": {},
  "kernelspec": {
   "display_name": "Python [conda env:headless]",
   "language": "python",
   "name": "conda-env-headless-py"
  },
  "language_info": {
   "codemirror_mode": {
    "name": "ipython",
    "version": 3
   },
   "file_extension": ".py",
   "mimetype": "text/x-python",
   "name": "python",
   "nbconvert_exporter": "python",
   "pygments_lexer": "ipython3",
   "version": "3.5.2"
  }
 },
 "nbformat": 4,
 "nbformat_minor": 1
}
