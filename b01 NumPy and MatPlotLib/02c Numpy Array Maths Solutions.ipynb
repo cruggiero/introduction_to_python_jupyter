{
 "cells": [
  {
   "cell_type": "code",
   "execution_count": null,
   "metadata": {
    "collapsed": false,
    "scrolled": true
   },
   "outputs": [],
   "source": [
    "# Create an array of floats from 20 to 40 inclusive, in steps of 2\n",
    "# Put it in the variable my_array\n",
    "import numpy as np\n",
    "my_array = np.arange(20, 42, 2.0)\n",
    "print(my_array)"
   ]
  },
  {
   "cell_type": "code",
   "execution_count": null,
   "metadata": {
    "collapsed": false,
    "scrolled": true
   },
   "outputs": [],
   "source": [
    "# Subtract 20 from all elements in a single operation\n",
    "\n",
    "print(my_array - 20)"
   ]
  },
  {
   "cell_type": "code",
   "execution_count": null,
   "metadata": {
    "collapsed": false,
    "scrolled": true
   },
   "outputs": [],
   "source": [
    "# Take the cos() of all elements in a single operation\n",
    "\n",
    "print(np.cos(my_array))"
   ]
  },
  {
   "cell_type": "code",
   "execution_count": null,
   "metadata": {
    "collapsed": false,
    "scrolled": true
   },
   "outputs": [],
   "source": [
    "# Print the mean value\n",
    "\n",
    "print(np.mean(my_array))"
   ]
  },
  {
   "cell_type": "code",
   "execution_count": null,
   "metadata": {
    "collapsed": false
   },
   "outputs": [],
   "source": [
    "# If time\n",
    "\n",
    "# Create an array 'x_array' of 1000 evenly spaced values between 0 and 10, using np.linspace()\n",
    "# Take the sin of the values and call it 'y_array' using np.sin()\n",
    "# plot using plt.plot(x_array, y_array), then plt.show()\n",
    "\n",
    "import matplotlib.pyplot as plt\n",
    "\n",
    "x_array = np.linspace(0, 10, 1000)\n",
    "y_array = np.sin(x_array)\n",
    "plt.plot(x_array, y_array)\n",
    "plt.show()"
   ]
  }
 ],
 "metadata": {
  "anaconda-cloud": {},
  "kernelspec": {
   "display_name": "Python [conda env:headless]",
   "language": "python",
   "name": "conda-env-headless-py"
  },
  "language_info": {
   "codemirror_mode": {
    "name": "ipython",
    "version": 3
   },
   "file_extension": ".py",
   "mimetype": "text/x-python",
   "name": "python",
   "nbconvert_exporter": "python",
   "pygments_lexer": "ipython3",
   "version": "3.5.2"
  }
 },
 "nbformat": 4,
 "nbformat_minor": 1
}
