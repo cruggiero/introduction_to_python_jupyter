{
 "cells": [
  {
   "cell_type": "code",
   "execution_count": null,
   "metadata": {
    "collapsed": false,
    "scrolled": true
   },
   "outputs": [],
   "source": [
    "# Creating a simple array of random numbers\n",
    "import numpy as np\n",
    "my_array = np.random.rand(5)\n",
    "print(my_array)"
   ]
  },
  {
   "cell_type": "code",
   "execution_count": null,
   "metadata": {
    "collapsed": false,
    "scrolled": true
   },
   "outputs": [],
   "source": [
    "import matplotlib.pyplot as plt\n",
    "plt.bar(range(1,6), my_array)\n",
    "plt.show()"
   ]
  },
  {
   "cell_type": "code",
   "execution_count": null,
   "metadata": {
    "collapsed": false,
    "scrolled": true
   },
   "outputs": [],
   "source": [
    "# Normal Distribution Values\n",
    "\n",
    "import matplotlib.pyplot as plt\n",
    "\n",
    "my_array = np.random.normal(loc=10, scale = 1, size = 100)\n",
    "plt.bar(range(0,100), my_array)\n",
    "plt.show()"
   ]
  },
  {
   "cell_type": "code",
   "execution_count": null,
   "metadata": {
    "collapsed": false,
    "scrolled": true
   },
   "outputs": [],
   "source": [
    "# Normal Distribution Curve using plt.hist()\n",
    "\n",
    "import matplotlib.pyplot as plt\n",
    "\n",
    "my_array = np.random.normal(loc=10, scale = 1, size = 10000)\n",
    "plt.hist(my_array, bins=50)\n",
    "plt.show()"
   ]
  },
  {
   "cell_type": "code",
   "execution_count": null,
   "metadata": {
    "collapsed": false,
    "scrolled": false
   },
   "outputs": [],
   "source": [
    "# Normal distributions with different means\n",
    "\n",
    "import matplotlib.pyplot as plt\n",
    "\n",
    "normal_1 = np.random.normal(loc=10, scale = 1, size = 10000)\n",
    "plt.hist(normal_1, bins=50, alpha=0.3)\n",
    "\n",
    "normal_2 = np.random.normal(loc=12, scale = 1, size = 10000)\n",
    "plt.hist(normal_2, bins=50, alpha=0.3)\n",
    "\n",
    "plt.show()"
   ]
  },
  {
   "cell_type": "code",
   "execution_count": null,
   "metadata": {
    "collapsed": false,
    "scrolled": true
   },
   "outputs": [],
   "source": [
    "# Normal Distributions with different means and scales\n",
    "\n",
    "import matplotlib.pyplot as plt\n",
    "\n",
    "bin_positions = np.arange(5, 25, 0.2)  # We need to specify the positions rather than number of bins.\n",
    "\n",
    "normal_1 = np.random.normal(loc=10, scale = 1, size = 10000)\n",
    "plt.hist(normal_1, bins=bin_positions, alpha=0.3)\n",
    "\n",
    "normal_2 = np.random.normal(loc=16, scale = 2, size = 10000)\n",
    "plt.hist(normal_2, bins=bin_positions, alpha=0.3)\n",
    "\n",
    "plt.show()"
   ]
  },
  {
   "cell_type": "code",
   "execution_count": null,
   "metadata": {
    "collapsed": false
   },
   "outputs": [],
   "source": [
    "all_values = np.append(normal_1, normal_2)\n",
    "plt.hist(all_values, bins=40, alpha=0.3)\n",
    "\n",
    "plt.show()\n"
   ]
  }
 ],
 "metadata": {
  "anaconda-cloud": {},
  "kernelspec": {
   "display_name": "Python [conda env:headless]",
   "language": "python",
   "name": "conda-env-headless-py"
  },
  "language_info": {
   "codemirror_mode": {
    "name": "ipython",
    "version": 3
   },
   "file_extension": ".py",
   "mimetype": "text/x-python",
   "name": "python",
   "nbconvert_exporter": "python",
   "pygments_lexer": "ipython3",
   "version": "3.5.2"
  }
 },
 "nbformat": 4,
 "nbformat_minor": 1
}
