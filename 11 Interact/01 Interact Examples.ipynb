{
 "cells": [
  {
   "cell_type": "code",
   "execution_count": null,
   "metadata": {
    "collapsed": false
   },
   "outputs": [],
   "source": [
    "# Interact: int\n",
    "\n",
    "from ipywidgets import interact\n",
    "\n",
    "def square(x):\n",
    "    print(x*x)\n",
    "\n",
    "interact(square, x=10)"
   ]
  },
  {
   "cell_type": "code",
   "execution_count": null,
   "metadata": {
    "collapsed": false
   },
   "outputs": [],
   "source": [
    "# Interact: bool\n",
    "\n",
    "from ipywidgets import interact\n",
    "\n",
    "def respond_to_boolean(my_bool):\n",
    "    if my_bool:\n",
    "        print('Checkbox ticked')\n",
    "    else:\n",
    "        print('Checkbox not ticked')\n",
    "        \n",
    "interact(respond_to_boolean, my_bool=True)"
   ]
  }
 ],
 "metadata": {
  "anaconda-cloud": {},
  "kernelspec": {
   "display_name": "Python [conda env:headless]",
   "language": "python",
   "name": "conda-env-headless-py"
  },
  "language_info": {
   "codemirror_mode": {
    "name": "ipython",
    "version": 3
   },
   "file_extension": ".py",
   "mimetype": "text/x-python",
   "name": "python",
   "nbconvert_exporter": "python",
   "pygments_lexer": "ipython3",
   "version": "3.5.2"
  }
 },
 "nbformat": 4,
 "nbformat_minor": 1
}
