{
 "cells": [
  {
   "cell_type": "code",
   "execution_count": null,
   "metadata": {
    "collapsed": false
   },
   "outputs": [],
   "source": [
    "# Interact int\n",
    "#\n",
    "# Execute the following code\n",
    "\n",
    "from ipywidgets import interact\n",
    "\n",
    "def print_coords(x, y, z):\n",
    "    print('x =' + str(x) + ', y =' + str(y) + ', z =' + str(z))\n",
    "    \n",
    "interact(print_coords, x=10, y=10, z=10)"
   ]
  },
  {
   "cell_type": "code",
   "execution_count": null,
   "metadata": {
    "collapsed": false
   },
   "outputs": [],
   "source": [
    "# Interact strings\n",
    "#\n",
    "# Call the function str_analyse() with the string 'hello' to see what it does.\n",
    "#\n",
    "# Now at replace this call with an interact statement.\n",
    "# The interact statement should call the str_analyse function.\n",
    "# It should set the initial value of my_str to 'hello'\n",
    "#\n",
    "# Alter the text inside the rectangular gray input box to see the code respond in real time.\n",
    "\n",
    "from ipywidgets import interact\n",
    "\n",
    "def str_analyse(my_str):\n",
    "    # Convert string to upper case\n",
    "    upper_string = my_str.upper()\n",
    "    print(upper_string)\n",
    "    \n",
    "    # Split the string into words\n",
    "    upper_word_list = upper_string.split()\n",
    "    print(upper_word_list)\n",
    "    \n",
    "    # Print number of words in the list\n",
    "    print(len(upper_word_list))\n",
    "    \n",
    "    # Print the number of each vowel\n",
    "    vowel_count_dict = [{vowel: upper_string.count(vowel)} for vowel in 'AEIOU' if upper_string.count(vowel) > 0]\n",
    "    print(vowel_count_dict)\n",
    "\n",
    "interact()  # ToDo - complete this interact statement"
   ]
  },
  {
   "cell_type": "code",
   "execution_count": null,
   "metadata": {
    "collapsed": false
   },
   "outputs": [],
   "source": [
    "# Interact float\n",
    "#\n",
    "# Execute the following code.\n",
    "# See how the steps increment by units of 1, even though x is a float\n",
    "\n",
    "from ipywidgets import interact\n",
    "\n",
    "def print_float(x):\n",
    "    print(x)\n",
    "\n",
    "interact(print_float, x = 1.1)"
   ]
  },
  {
   "cell_type": "code",
   "execution_count": null,
   "metadata": {
    "collapsed": false,
    "scrolled": true
   },
   "outputs": [],
   "source": [
    "# To get finer grain control, we can create a slider.\n",
    "# Execute the following code\n",
    "\n",
    "from ipywidgets import interact, FloatSlider\n",
    "\n",
    "float_slider = FloatSlider(min=-1, max=1, step=0.1, value=0)\n",
    "\n",
    "interact(print_float, x=float_slider)"
   ]
  },
  {
   "cell_type": "code",
   "execution_count": null,
   "metadata": {
    "collapsed": true
   },
   "outputs": [],
   "source": [
    "# Type ipywidgets. then Tab, to find the avialable methods\n",
    "\n",
    "ipywidgets."
   ]
  },
  {
   "cell_type": "code",
   "execution_count": null,
   "metadata": {
    "collapsed": false
   },
   "outputs": [],
   "source": [
    "# Interact dropdown\n",
    "#\n",
    "# Execute this code to create a dropdown list\n",
    "\n",
    "from ipywidgets import interact\n",
    "\n",
    "def print_item(x):\n",
    "    print(x)\n",
    "\n",
    "interact(print_item, x=['a', 'b', 'c'])\n"
   ]
  },
  {
   "cell_type": "code",
   "execution_count": null,
   "metadata": {
    "collapsed": false
   },
   "outputs": [],
   "source": [
    "# Interact dict\n",
    "#\n",
    "# Execute this code to use a dictionary\n",
    "\n",
    "from ipywidgets import interact\n",
    "\n",
    "def print_item(x):\n",
    "    print(x)\n",
    "\n",
    "interact(print_item, x={'a': 1, 'b': 2, 'c': 3})\n"
   ]
  },
  {
   "cell_type": "code",
   "execution_count": null,
   "metadata": {
    "collapsed": false
   },
   "outputs": [],
   "source": [
    "# The order of the dictionary keys is unpredictable in the cell above though.\n",
    "#\n",
    "# Try this approach to get a predictable order:\n",
    "\n",
    "from ipywidgets import interact\n",
    "\n",
    "my_dict = {'a': 1, 'b': 2, 'c': 3}\n",
    "\n",
    "def print_item(x):\n",
    "    print(my_dict[x])\n",
    "\n",
    "interact(print_item, x=sorted(my_dict.keys()))\n"
   ]
  },
  {
   "cell_type": "code",
   "execution_count": null,
   "metadata": {
    "collapsed": false
   },
   "outputs": [],
   "source": [
    "# Find out more at this URL:\n",
    "\n",
    "import os\n",
    "\n",
    "os.system('start chrome \"http://ipywidgets.readthedocs.io/en/latest/examples/Using%20Interact.html\"')"
   ]
  }
 ],
 "metadata": {
  "anaconda-cloud": {},
  "kernelspec": {
   "display_name": "Python [conda env:headless]",
   "language": "python",
   "name": "conda-env-headless-py"
  },
  "language_info": {
   "codemirror_mode": {
    "name": "ipython",
    "version": 3
   },
   "file_extension": ".py",
   "mimetype": "text/x-python",
   "name": "python",
   "nbconvert_exporter": "python",
   "pygments_lexer": "ipython3",
   "version": "3.5.2"
  }
 },
 "nbformat": 4,
 "nbformat_minor": 1
}
