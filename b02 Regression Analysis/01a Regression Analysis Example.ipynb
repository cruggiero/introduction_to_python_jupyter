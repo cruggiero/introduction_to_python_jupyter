{
 "cells": [
  {
   "cell_type": "code",
   "execution_count": null,
   "metadata": {
    "collapsed": false,
    "scrolled": true
   },
   "outputs": [],
   "source": [
    "# LINEAR REGRESSION ANALYSIS EXAMPLE USING SEALEVEL DATA\n",
    "\n",
    "# Open the URL below and go to example 202 for Newlyn\n",
    "# Select 'Download annual mean sea level data'\n",
    "\n",
    "import os\n",
    "os.system('start chrome \"http://www.psmsl.org/data/obtaining\"')"
   ]
  },
  {
   "cell_type": "code",
   "execution_count": null,
   "metadata": {
    "collapsed": false,
    "scrolled": false
   },
   "outputs": [],
   "source": [
    "# Read url in byte format\n",
    "\n",
    "from urllib.request import urlopen\n",
    "\n",
    "my_url = 'http://www.psmsl.org/data/obtaining/rlr.annual.data/202.rlrdata'\n",
    "html = urlopen(my_url).read()\n",
    "print(html)"
   ]
  },
  {
   "cell_type": "code",
   "execution_count": null,
   "metadata": {
    "collapsed": false,
    "scrolled": false
   },
   "outputs": [],
   "source": [
    "# Convert from bytes to string\n",
    "\n",
    "my_string = html.decode('utf8')\n",
    "print(my_string)"
   ]
  },
  {
   "cell_type": "code",
   "execution_count": null,
   "metadata": {
    "collapsed": false,
    "scrolled": true
   },
   "outputs": [],
   "source": [
    "# Split into lines and pretty print it\n",
    "import pprint\n",
    "\n",
    "line_list = my_string.split('\\n')\n",
    "pprint.pprint(line_list)"
   ]
  },
  {
   "cell_type": "code",
   "execution_count": null,
   "metadata": {
    "collapsed": false,
    "scrolled": false
   },
   "outputs": [],
   "source": [
    "# Data is messy:\n",
    "#   It contains white spaces, \n",
    "#   -99999 values need removing\n",
    "#   Empty row at end needs removing\n",
    "#\n",
    "# Need to clean ('Data munging')\n",
    "\n",
    "# Break each row down to its elements using csv.reader\n",
    "# and remove white space with the 'skipinitialspace=True' parameter\n",
    "\n",
    "import csv\n",
    "my_reader = csv.reader(line_list, delimiter=';', skipinitialspace=True)\n",
    "\n",
    "for row in my_reader:\n",
    "    print(row)"
   ]
  },
  {
   "cell_type": "code",
   "execution_count": null,
   "metadata": {
    "collapsed": false
   },
   "outputs": [],
   "source": [
    "# Clean up datatypes and bad data using a list comprehension\n",
    "\n",
    "import csv\n",
    "my_reader = csv.reader(line_list, delimiter=';', skipinitialspace=True)   # Note need to do this again to return to start\n",
    "\n",
    "clean_list = [[int(row[0]), int(row[1]), row[2], row[3]] \\\n",
    "              for row in my_reader \\\n",
    "              if len(row) == 4 \\\n",
    "              and row[1] != '-99999']      \n",
    "pprint.pprint(clean_list)"
   ]
  },
  {
   "cell_type": "code",
   "execution_count": null,
   "metadata": {
    "collapsed": false,
    "scrolled": true
   },
   "outputs": [],
   "source": [
    "# Transpose the data into columns:\n",
    "\n",
    "a, b, c, d = zip(*clean_list)\n",
    "print(a)\n",
    "print()\n",
    "print(b)\n",
    "print()\n",
    "print(c)\n",
    "print()\n",
    "print(d)"
   ]
  },
  {
   "cell_type": "code",
   "execution_count": null,
   "metadata": {
    "collapsed": false
   },
   "outputs": [],
   "source": [
    "# Now wrap the whole thing in a function\n",
    "\n",
    "from urllib.request import urlopen\n",
    "import csv\n",
    "\n",
    "def get_sealevel_data_from_station_number(my_station_number):\n",
    "    \"\"\"\n",
    "    Return a list of years and a list of sealevels of equal lengths, \n",
    "    when passed a station number for the PSMSL (Permanent Service for Mean Sea Level) website\n",
    "    \"\"\"\n",
    "    my_url = 'http://www.psmsl.org/data/obtaining/rlr.annual.data/' + str(my_station_number) + '.rlrdata'\n",
    "    line_list = urlopen(my_url).read().decode('utf8').split('\\n')\n",
    "    my_reader = csv.reader(line_list, delimiter=';', skipinitialspace=True)\n",
    "    clean_list = [[int(row[0]), int(row[1]), row[2], row[3]] \\\n",
    "              for row in my_reader \\\n",
    "              if len(row) == 4 \\\n",
    "              and row[1] != '-99999']  \n",
    "    x_year_list, y_sealevel_list, c, d = zip(*clean_list)\n",
    "    return x_year_list, y_sealevel_list\n",
    "\n",
    "print(get_sealevel_data_from_station_number(202))"
   ]
  },
  {
   "cell_type": "code",
   "execution_count": null,
   "metadata": {
    "collapsed": false,
    "scrolled": true
   },
   "outputs": [],
   "source": [
    "# Now for the linear regression\n",
    "# Transform lists to NumPy arrays\n",
    "\n",
    "import numpy as np\n",
    "\n",
    "x_list, y_list = get_sealevel_data_from_station_number(202)\n",
    "\n",
    "\n",
    "x_array = np.array([x_list]).T  # note - data has to be wrapped in a second list to transpose\n",
    "print(x_array.shape)\n",
    "\n",
    "y_array = np.asarray(y_list)\n",
    "print(y_array.shape)"
   ]
  },
  {
   "cell_type": "code",
   "execution_count": null,
   "metadata": {
    "collapsed": true,
    "scrolled": true
   },
   "outputs": [],
   "source": [
    "# Create a new, empty linear regression object called 'my_regression_model'\n",
    "from sklearn import linear_model\n",
    "\n",
    "my_regression_model = linear_model.LinearRegression()"
   ]
  },
  {
   "cell_type": "code",
   "execution_count": null,
   "metadata": {
    "collapsed": false,
    "scrolled": true
   },
   "outputs": [],
   "source": [
    "# Fit the model to the data\n",
    "\n",
    "my_regression_model.fit(x_array, y_array)"
   ]
  },
  {
   "cell_type": "code",
   "execution_count": null,
   "metadata": {
    "collapsed": false
   },
   "outputs": [],
   "source": [
    "import matplotlib.pyplot as plt\n",
    "\n",
    "plt.plot(x_array, y_array)\n",
    "plt.show()\n"
   ]
  },
  {
   "cell_type": "code",
   "execution_count": null,
   "metadata": {
    "collapsed": false
   },
   "outputs": [],
   "source": [
    "import matplotlib.pyplot as plt\n",
    "\n",
    "plt.clf()  # Clears previous lines\n",
    "plt.plot(x_array, y_array, label='Sea Level')\n",
    "plt.plot(x_array, my_regression_model.predict(x_array), label='Linear Regression Fit')\n",
    "plt.legend(loc='upper center')\n",
    "plt.show()"
   ]
  },
  {
   "cell_type": "code",
   "execution_count": null,
   "metadata": {
    "collapsed": false
   },
   "outputs": [],
   "source": [
    "# Let's extrapolate to 2100\n",
    "\n",
    "import matplotlib.pyplot as plt\n",
    "import numpy as np\n",
    "\n",
    "new_x_array = np.array([np.arange(1900, 2100)]).T   # Create a vertical list\n",
    "\n",
    "plt.clf()  # Clears previous lines\n",
    "plt.plot(x_array, y_array, label='Sea Level')\n",
    "plt.plot(new_x_array, my_regression_model.predict(new_x_array), label='Linear Regression Fit')\n",
    "plt.legend(loc='upper center')\n",
    "plt.show()\n"
   ]
  },
  {
   "cell_type": "code",
   "execution_count": null,
   "metadata": {
    "collapsed": false
   },
   "outputs": [],
   "source": [
    "# Predict a single value:\n",
    "\n",
    "print(my_regression_model.predict(2100))"
   ]
  },
  {
   "cell_type": "code",
   "execution_count": null,
   "metadata": {
    "collapsed": false,
    "scrolled": true
   },
   "outputs": [],
   "source": [
    "# Coefficients\n",
    "\n",
    "print(my_regression_model.coef_)\n",
    "print(my_regression_model.intercept_)"
   ]
  },
  {
   "cell_type": "code",
   "execution_count": null,
   "metadata": {
    "collapsed": false
   },
   "outputs": [],
   "source": [
    "# Now try the exercises"
   ]
  }
 ],
 "metadata": {
  "anaconda-cloud": {},
  "kernelspec": {
   "display_name": "Python [conda env:headless]",
   "language": "python",
   "name": "conda-env-headless-py"
  },
  "language_info": {
   "codemirror_mode": {
    "name": "ipython",
    "version": 3
   },
   "file_extension": ".py",
   "mimetype": "text/x-python",
   "name": "python",
   "nbconvert_exporter": "python",
   "pygments_lexer": "ipython3",
   "version": "3.5.2"
  }
 },
 "nbformat": 4,
 "nbformat_minor": 1
}
