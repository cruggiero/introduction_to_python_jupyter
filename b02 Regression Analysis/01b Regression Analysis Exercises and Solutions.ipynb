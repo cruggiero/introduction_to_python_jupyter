{
 "cells": [
  {
   "cell_type": "code",
   "execution_count": null,
   "metadata": {
    "collapsed": true
   },
   "outputs": [],
   "source": [
    "# Run the code on the example yourself\n",
    "#\n",
    "# Change the station number to 202 then re-execute (Cell -> Run All Below)\n",
    "# Is all sea level rising everywhere?"
   ]
  },
  {
   "cell_type": "code",
   "execution_count": null,
   "metadata": {
    "collapsed": false
   },
   "outputs": [],
   "source": [
    "# Execute the following code\n",
    "#\n",
    "# Change the range to display station numbers from 200 to 210\n",
    "# How would you analyse the data from here?\n",
    "\n",
    "from urllib.request import urlopen\n",
    "import csv\n",
    "import matplotlib.pyplot as plt\n",
    "\n",
    "def get_sealevel_data_from_station_number(my_station_number):\n",
    "    \"\"\"\n",
    "    Return a list of years and a list of sealevels of equal lengths, \n",
    "    when passed a station number for the PSMSL (Permanent Service for Mean Sea Level) website\n",
    "    \"\"\"\n",
    "    my_url = 'http://www.psmsl.org/data/obtaining/rlr.annual.data/' + str(my_station_number) + '.rlrdata'\n",
    "    try:\n",
    "        line_list = urlopen(my_url).read().decode('utf8').split('\\n')\n",
    "    except:\n",
    "        return None\n",
    "    my_reader = csv.reader(line_list, delimiter=';', skipinitialspace=True)\n",
    "    clean_list = [[int(row[0]), int(row[1]), row[2], row[3]] \\\n",
    "              for row in my_reader \\\n",
    "              if len(row) == 4 \\\n",
    "              and row[1] != '-99999']  \n",
    "    x_year_list, y_sealevel_list, c, d = zip(*clean_list)\n",
    "    return x_year_list, y_sealevel_list\n",
    "\n",
    "for station_no in range(200,201):                    # CHANGE THE RANGE HERE\n",
    "    result_tuple = get_sealevel_data_from_station_number(station_no)\n",
    "    if result_tuple is not None:\n",
    "        x_list, y_list = result_tuple\n",
    "        plt.plot(x_list, y_list, label=str(station_no))\n",
    "plt.legend(loc='center left', prop={'size':10})\n",
    "plt.show()"
   ]
  },
  {
   "cell_type": "code",
   "execution_count": null,
   "metadata": {
    "collapsed": false
   },
   "outputs": [],
   "source": [
    "# If time: look at the data for different ranges of stations.\n",
    "#\n",
    "# How would you find the latitude and logitude of each station\n",
    "# and a number representing the rate of change of sea level at each station,\n",
    "# to colour code a map with the rate of change in sea level at different locations?\n",
    "\n",
    "# Scrape this site \n",
    "# http://www.psmsl.org/data/obtaining/  \n",
    "# using beautiful soup, or urllib.request \n",
    "# to get a list of station ids and respective latitude and longitude\n",
    "# use a library such as folium\n",
    "\n",
    "import os\n",
    "os.system('start chrome \"http://www.jackboot7.com/visualizing-tweets.html\"')\n"
   ]
  },
  {
   "cell_type": "code",
   "execution_count": null,
   "metadata": {
    "collapsed": false
   },
   "outputs": [],
   "source": [
    "# Try some map examples for yourself here\n",
    "\n",
    "import os\n",
    "os.system('start chrome \"http://nbviewer.jupyter.org/github/python-visualization/folium/tree/master/examples/\"')\n"
   ]
  },
  {
   "cell_type": "code",
   "execution_count": 1,
   "metadata": {
    "collapsed": false
   },
   "outputs": [
    {
     "data": {
      "text/plain": [
       "0"
      ]
     },
     "execution_count": 1,
     "metadata": {},
     "output_type": "execute_result"
    }
   ],
   "source": [
    "# Coud this be the reason for sea levels rising in some places?\n",
    "\n",
    "import os\n",
    "os.system('start chrome \"http://io9.gizmodo.com/why-are-sea-levels-dropping-in-places-closest-to-the-me-1684599241\"')"
   ]
  }
 ],
 "metadata": {
  "anaconda-cloud": {},
  "kernelspec": {
   "display_name": "Python [conda env:headless]",
   "language": "python",
   "name": "conda-env-headless-py"
  },
  "language_info": {
   "codemirror_mode": {
    "name": "ipython",
    "version": 3
   },
   "file_extension": ".py",
   "mimetype": "text/x-python",
   "name": "python",
   "nbconvert_exporter": "python",
   "pygments_lexer": "ipython3",
   "version": "3.5.2"
  }
 },
 "nbformat": 4,
 "nbformat_minor": 1
}
