{
 "cells": [
  {
   "cell_type": "code",
   "execution_count": null,
   "metadata": {
    "collapsed": true
   },
   "outputs": [],
   "source": [
    "# Getting Started with Jupyter Notebook:\n",
    "#\n",
    "# Keyboard Shorcuts Summary:\n",
    "#   Run cell: Ctrl+Enter\n",
    "#   Run cell and create new one: Alt+Enter\n",
    "#   Comment or uncomment rows: Ctrl + \\\n",
    "#   Indent multiple rows: Tab\n",
    "#   Out-dent multiple rows: Shift + Tab\n",
    "#   Copy cell:  ‘c’ \n",
    "#   Paste cell: ‘v’\n",
    "#   Create new cell: ‘b’"
   ]
  },
  {
   "cell_type": "code",
   "execution_count": null,
   "metadata": {
    "collapsed": false
   },
   "outputs": [],
   "source": [
    "# 1) Run the following code using Ctrl + Enter\n",
    "\n",
    "for i in range(0,3):\n",
    "    print(i)\n",
    "    \n",
    "# Note - you do not need to know how the code works at this stage\n",
    "# we will run through that later\n",
    "\n",
    "# 2) Now clear the output using the menu item Cell -> All Output -> Clear\n",
    "\n",
    "# 3) Run the same code using Alt + Enter. This time you should see a new cell appear below.\n",
    "\n",
    "# 4) Copy the two lines of code from this cell into the new cell and use Ctrl + Enter to run it."
   ]
  },
  {
   "cell_type": "code",
   "execution_count": null,
   "metadata": {
    "collapsed": true
   },
   "outputs": [],
   "source": [
    "# 5) There should be a cell above this one containing two lines of code.\n",
    "#    Select both lines of code.\n",
    "#    Now press Ctrl + / to comment them both out\n",
    "#\n",
    "# 6) Try running them again using Ctrl + Enter. \n",
    "#    Nothing should happen this time, as both lines are commented out.\n",
    "# \n",
    "# 7) Repeat step 5). This time pressing Ctrl + / should uncomment the code.\n",
    "#    Run the code again using Ctrl + Enter.\n",
    "# \n",
    "# 8) Now put your cursor in the white border, just to the left of the cell\n",
    "#    containing the two lines of code.  \n",
    "#    The border of the cell should turn from green to blue.\n",
    "# \n",
    "# 9) With the cursor to the left of the cell with the two lines of code\n",
    "#    and the border still blue, press the 'c' key to copy the cell.\n",
    "# \n",
    "# 10) Now highlight this cell in blue by \n",
    "#     selecting the white area just to the left and press 'v'\n",
    "#     the code will be pasted below this cell."
   ]
  },
  {
   "cell_type": "code",
   "execution_count": null,
   "metadata": {
    "collapsed": true
   },
   "outputs": [],
   "source": [
    "# 11) There should be a new cell above this one now, containing two lines of code.\n",
    "#     select both lines and press the Tab key.\n",
    "#     The code will be indented.\n",
    "#     Indenting is important in Python. It is part of the syntax.\n",
    "#\n",
    "# 12) With the two lines of code still highlighted, press Shift + Tab.\n",
    "#     The code will be out-dented again to line up against the left-hand border\n",
    "#\n",
    "# 13) Now select the white space to the left of this cell; the one you\n",
    "#     are reading right now containing these comments.\n",
    "#     its border should turn blue.\n",
    "#\n",
    "# 14) Press the 'b' key. This creates a new cell below without running the current one.\n",
    "#     This is useful if the current cell contains slow running code"
   ]
  },
  {
   "cell_type": "code",
   "execution_count": null,
   "metadata": {
    "collapsed": true
   },
   "outputs": [],
   "source": [
    "# 15) If time:\n",
    "#\n",
    "#     Practice using these shortcuts until you are familiar with them\n",
    "#     Check out the other menu items and buttons"
   ]
  }
 ],
 "metadata": {
  "anaconda-cloud": {},
  "kernelspec": {
   "display_name": "Python [conda env:headless]",
   "language": "python",
   "name": "conda-env-headless-py"
  },
  "language_info": {
   "codemirror_mode": {
    "name": "ipython",
    "version": 3
   },
   "file_extension": ".py",
   "mimetype": "text/x-python",
   "name": "python",
   "nbconvert_exporter": "python",
   "pygments_lexer": "ipython3",
   "version": "3.5.2"
  }
 },
 "nbformat": 4,
 "nbformat_minor": 1
}
