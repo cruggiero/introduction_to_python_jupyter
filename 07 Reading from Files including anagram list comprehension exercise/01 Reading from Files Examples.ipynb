{
 "cells": [
  {
   "cell_type": "code",
   "execution_count": 5,
   "metadata": {
    "collapsed": false,
    "scrolled": true
   },
   "outputs": [
    {
     "name": "stdout",
     "output_type": "stream",
     "text": [
      "['a', 'aa', 'aaa', 'aah', 'aahed', 'aahing', 'aahs', 'aal', 'aalii', 'aaliis', 'aals', 'aam', 'aardvark', 'aardvarks', 'aardwolf', 'aardwolves', 'aargh', 'aaron', 'aaronic', 'aarrgh']\n"
     ]
    }
   ],
   "source": [
    "# Reading from files\n",
    "#\n",
    "# Warning - words.txt is a large file\n",
    "# please limit the number of words you print,\n",
    "# e.g. by using a slice.\n",
    "\n",
    "with open('words.txt', 'r') as my_file:\n",
    "    word_list = [line.strip() for line in my_file]\n",
    "    print(word_list[:20])"
   ]
  },
  {
   "cell_type": "code",
   "execution_count": 8,
   "metadata": {
    "collapsed": false,
    "scrolled": true
   },
   "outputs": [
    {
     "name": "stdout",
     "output_type": "stream",
     "text": [
      "[1, 2, 3, 3, 5, 6, 4, 3, 5, 6, 4, 3, 8, 9, 8, 10, 5, 5, 7, 6]\n",
      "31\n"
     ]
    }
   ],
   "source": [
    "word_len_list = [len(word) for word in word_list]\n",
    "print(word_len_list[:20])\n",
    "print(max(word_len_list))"
   ]
  },
  {
   "cell_type": "code",
   "execution_count": 10,
   "metadata": {
    "collapsed": false
   },
   "outputs": [
    {
     "name": "stdout",
     "output_type": "stream",
     "text": [
      "['dichlorodiphenyltrichloroethane']\n"
     ]
    }
   ],
   "source": [
    "longest_words = [word for word in word_list if len(word) == 31]\n",
    "print(longest_words)"
   ]
  }
 ],
 "metadata": {
  "anaconda-cloud": {},
  "kernelspec": {
   "display_name": "Python [conda env:headless]",
   "language": "python",
   "name": "conda-env-headless-py"
  },
  "language_info": {
   "codemirror_mode": {
    "name": "ipython",
    "version": 3
   },
   "file_extension": ".py",
   "mimetype": "text/x-python",
   "name": "python",
   "nbconvert_exporter": "python",
   "pygments_lexer": "ipython3",
   "version": "3.5.2"
  }
 },
 "nbformat": 4,
 "nbformat_minor": 1
}
