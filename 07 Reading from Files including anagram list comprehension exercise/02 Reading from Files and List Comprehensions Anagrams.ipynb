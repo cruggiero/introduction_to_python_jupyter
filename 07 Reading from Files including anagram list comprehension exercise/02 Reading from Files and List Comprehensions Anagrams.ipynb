{
 "cells": [
  {
   "cell_type": "code",
   "execution_count": null,
   "metadata": {
    "collapsed": true
   },
   "outputs": [],
   "source": [
    "# Finding anagrams\n",
    "#\n",
    "# The objective of this exercise is to find all anagrams \n",
    "# of the following nine character strings:\n",
    "['aegilnrwy', 'aeegillrs', 'aadilmnns', 'acehorrst']\n",
    "# We will use the words in words.txt to find which are\n",
    "# valid anagrams."
   ]
  },
  {
   "cell_type": "code",
   "execution_count": 1,
   "metadata": {
    "collapsed": false
   },
   "outputs": [
    {
     "name": "stdout",
     "output_type": "stream",
     "text": [
      "['a', 'aa', 'aaa', 'aah', 'aahed', 'aahing', 'aahs', 'aal', 'aalii', 'aaliis', 'aals', 'aam', 'aardvark', 'aardvarks', 'aardwolf', 'aardwolves', 'aargh', 'aaron', 'aaronic', 'aarrgh']\n"
     ]
    }
   ],
   "source": [
    "# 1) Read in words.txt into a list called word_list\n",
    "# You can use the same code as in the example.\n",
    "# Warning do not print out the whole list of words\n",
    "# slice it down to a suitable number.\n",
    "\n",
    "with open('words.txt', 'r') as my_file:\n",
    "    word_list = [line.strip() for line in my_file]\n",
    "    print(word_list[:20])"
   ]
  },
  {
   "cell_type": "code",
   "execution_count": 2,
   "metadata": {
    "collapsed": false,
    "scrolled": true
   },
   "outputs": [
    {
     "name": "stdout",
     "output_type": "stream",
     "text": [
      "['aardvarks', 'aasvogels', 'abacinate', 'abaciscus', 'abactinal', 'abaisance', 'abalation', 'abamperes', 'abandoned', 'abandonee']\n"
     ]
    }
   ],
   "source": [
    "# 2) Use a list comprehension to cut the list down to 9 letter words.\n",
    "#    Call the new list nine_letter_word_list\n",
    "\n",
    "nine_letter_word_list = [word for word in word_list if len(word) == 9]\n",
    "print(nine_letter_word_list[:10])"
   ]
  },
  {
   "cell_type": "code",
   "execution_count": 23,
   "metadata": {
    "collapsed": false,
    "scrolled": true
   },
   "outputs": [
    {
     "name": "stdout",
     "output_type": "stream",
     "text": [
      "[['aaadkrrsv', 'aardvarks'], ['aaeglossv', 'aasvogels'], ['aaabceint', 'abacinate'], ['aabccissu', 'abaciscus'], ['aaabcilnt', 'abactinal'], ['aaabceins', 'abaisance'], ['aaabilnot', 'abalation'], ['aabeemprs', 'abamperes'], ['aabddenno', 'abandoned'], ['aabdeenno', 'abandonee']]\n"
     ]
    }
   ],
   "source": [
    "# 3) Now use another list comprehension to create pairs of words\n",
    "#    in the following format.  The first of each pair has characters sorted\n",
    "#    in alphabetical order.\n",
    "#    [['aaadkrrsv', 'aardvarks'], ['aaeglossv', 'aasvogels'],  ...]\n",
    "#    Hint - you can create a copy of a word, with the characters\n",
    "#    sorted alphabetically using the following syntax:\n",
    "#    ''.join(sorted(list(word)))\n",
    "\n",
    "pair_list = [[''.join(sorted(list(word))), word] for word in nine_letter_word_list]\n",
    "print(pair_list[:10])"
   ]
  },
  {
   "cell_type": "code",
   "execution_count": 16,
   "metadata": {
    "collapsed": false,
    "scrolled": true
   },
   "outputs": [
    {
     "name": "stdout",
     "output_type": "stream",
     "text": [
      "[['a', 'e', 'g', 'i', 'l', 'n', 'r', 'w', 'y'], ['a', 'e', 'e', 'g', 'i', 'l', 'l', 'r', 's'], ['a', 'a', 'd', 'i', 'l', 'm', 'n', 'n', 's'], ['a', 'c', 'e', 'h', 'o', 'r', 'r', 's', 't']]\n"
     ]
    }
   ],
   "source": [
    "\n"
   ]
  },
  {
   "cell_type": "code",
   "execution_count": 25,
   "metadata": {
    "collapsed": false
   },
   "outputs": [
    {
     "name": "stdout",
     "output_type": "stream",
     "text": [
      "[['aadilmnns', 'islandman'], ['aadilmnns', 'mainlands'], ['acehorrst', 'carthorse'], ['acehorrst', 'horsecart'], ['acehorrst', 'orchestra'], ['aeegillrs', 'allergies'], ['aeegillrs', 'galleries'], ['aegilnrwy', 'lawyering'], ['aegilnrwy', 'wearingly']]\n"
     ]
    }
   ],
   "source": [
    "# Finally, create one last list comprehension to iterate\n",
    "# through the pair_list and return the pair, if the first element\n",
    "# of the pair is contained in the test_word_list, i.e.\n",
    "# if pair[0] in test_word_list\n",
    "\n",
    "test_word_list = ['aegilnrwy', 'aeegillrs', 'aadilmnns', 'acehorrst']\n",
    "matches = [pair for pair in pair_list if pair[0] in test_word_list]\n",
    "matches.sort()\n",
    "print(matches)"
   ]
  }
 ],
 "metadata": {
  "anaconda-cloud": {},
  "kernelspec": {
   "display_name": "Python [conda env:headless]",
   "language": "python",
   "name": "conda-env-headless-py"
  },
  "language_info": {
   "codemirror_mode": {
    "name": "ipython",
    "version": 3
   },
   "file_extension": ".py",
   "mimetype": "text/x-python",
   "name": "python",
   "nbconvert_exporter": "python",
   "pygments_lexer": "ipython3",
   "version": "3.5.2"
  }
 },
 "nbformat": 4,
 "nbformat_minor": 1
}
