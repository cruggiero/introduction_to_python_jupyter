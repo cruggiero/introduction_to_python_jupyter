{
 "cells": [
  {
   "cell_type": "code",
   "execution_count": null,
   "metadata": {
    "collapsed": false,
    "scrolled": true
   },
   "outputs": [],
   "source": [
    "# Write a function to square a number.\n",
    "# Call the function square() and give it one parameter my_num\n",
    "# Call it with the number 7 and print the result\n",
    "\n",
    "def  # Write your code here\n",
    "\n",
    "print(square(7))"
   ]
  },
  {
   "cell_type": "code",
   "execution_count": null,
   "metadata": {
    "collapsed": false
   },
   "outputs": [],
   "source": [
    "# Write a function triangle_area to calculate the area of a triange\n",
    "# Pass it the parameters base and height\n",
    "# The formula for area of a triangle is half base times height.\n",
    "# A triangle with base of 4 units and height of 3 units\n",
    "# has area 6 units squared\n",
    "\n",
    "def  # Write your code here\n",
    "\n",
    "print(triangle_area(4, 3))"
   ]
  },
  {
   "cell_type": "code",
   "execution_count": null,
   "metadata": {
    "collapsed": true
   },
   "outputs": [],
   "source": [
    "# Write a function to return the plural of a word.\n",
    "# Make it work with the following list\n",
    "# ['biscuit', 'fairy']:\n",
    "# The logic should be:\n",
    "# If the word ends with y, return a new string made up of all letters except for the last, plus 'ies'\n",
    "# Otherwise, return a new string made up of the original word, plus the letter 's'\n",
    "# Hint all the letters except for the last can be found using word[:-1]\n",
    "\n",
    "def plural(word):  # Write your code after this line\n",
    "\n",
    "for word in ['biscuit', 'fairy']:\n",
    "    print(plural(word))"
   ]
  },
  {
   "cell_type": "code",
   "execution_count": null,
   "metadata": {
    "collapsed": true
   },
   "outputs": [],
   "source": [
    "# Now extend the function to also deal with words ending in 's', 'sh' or 'an'.\n",
    "# It should work for the following list:\n",
    "# ['biscuit', 'fish', 'fairy', 'man', 'woman']\n",
    "# use 'elif ... :' statements between the existing if and the else.\n",
    "# If the word ends with 's' or the last two letters are 'sh', \n",
    "# return a new string made up of the original one plus 'es'\n",
    "# If the word ends with 'an', return the original word, \n",
    "# except the last two letters, plus 'en'\n",
    "\n",
    "def plural(word):  # Write your code after this line\n",
    "\n",
    "for word in ['biscuit', 'fish', 'fairy', 'man', 'woman']:\n",
    "    print(plural(word))"
   ]
  },
  {
   "cell_type": "code",
   "execution_count": null,
   "metadata": {
    "collapsed": true
   },
   "outputs": [],
   "source": [
    "# PASCALS TRIANGLE \n",
    "#\n",
    "# If time - advanced\n",
    "# \n",
    "# Pascal's triangle looks like this:\n",
    "#            1\n",
    "#          1,  1\n",
    "#        1,  2,  1\n",
    "#      1,  3,  3,  1\n",
    "#    1,  4,  6,  4,  1\n",
    "#  1,  5, 10, 10,  5,  1\n",
    "\n",
    "# Each element is calculated is calculated by summing the two diagonally above it.\n",
    "# Take a look at this GIF on wikipedia explaining how each element is calculated\n",
    "# https://en.wikipedia.org/wiki/File:PascalTriangleAnimated2.gif"
   ]
  },
  {
   "cell_type": "code",
   "execution_count": null,
   "metadata": {
    "collapsed": true
   },
   "outputs": [],
   "source": [
    "# We will define a function called pascal() that takes one parameter number_of_rows.\n",
    "# The function will return a list of lists in this format:\n",
    "# [[1], [1, 1], [1, 2, 1], [1, 3, 3, 1], [1, 4, 6, 4, 1], ...]"
   ]
  },
  {
   "cell_type": "code",
   "execution_count": null,
   "metadata": {
    "collapsed": false,
    "scrolled": false
   },
   "outputs": [],
   "source": [
    "# First, start by declaring a function pascal(), taking parameter number_of_rows\n",
    "# On the first line of the function, add the following line:\n",
    "# result = [[1]]\n",
    "# Return the result on the next line of the function\n",
    "#\n",
    "# Now call the fuction with the value 5 and print the result out.\n",
    "# It should print [[1]]\n",
    "\n",
    "def   # write your code here\n",
    "\n",
    "print(pascal(number_of_rows))"
   ]
  },
  {
   "cell_type": "code",
   "execution_count": null,
   "metadata": {
    "collapsed": false,
    "scrolled": true
   },
   "outputs": [],
   "source": [
    "# Now after the line that initialises the result to [[1]],\n",
    "# add a for loop with a variable i that iterates number_of_rows times.\n",
    "#\n",
    "# Inside the for loop, create a variable called previous_row, and set it\n",
    "# to the final element in the result list using the index -1\n",
    "# for i in range(...):\n",
    "#     previous_row = result[...]\n",
    "\n",
    "# Copy the code from the cell above and add your new code here"
   ]
  },
  {
   "cell_type": "code",
   "execution_count": null,
   "metadata": {
    "collapsed": true
   },
   "outputs": [],
   "source": [
    "# Now we want to add a zero either side of the previous_row \n",
    "# so that [1] becomes [0, 1, 0]\n",
    "# Adding these zeros allows us to convert the previous row to \n",
    "# pairs of numbers right the way along the row, \n",
    "# rather than having to deal with a single '1' value at each end.\n",
    "\n",
    "# Create a variable previous_row_with_zeros\n",
    "# and use two lists containing just the value zero [0] and the '+' operator\n",
    "# to add zeros at the start and end\n",
    "\n",
    "# Copy the code from the cell above and add your new code here"
   ]
  },
  {
   "cell_type": "code",
   "execution_count": null,
   "metadata": {
    "collapsed": false
   },
   "outputs": [],
   "source": [
    "# Now split the previous_row_with_zeros into overlapping values like this:\n",
    "# [[0, 1], [1, 0]]\n",
    "# Use a list comprehension like this:\n",
    "# previous_row_pairs = [previous_row_with_zeros[i:i+2] \n",
    "#                       for i in range(len(previous_row_with_zeros) - 1)]\n",
    "\n",
    "# Copy the code from the cell above and add your new code here"
   ]
  },
  {
   "cell_type": "code",
   "execution_count": null,
   "metadata": {
    "collapsed": false
   },
   "outputs": [],
   "source": [
    "# Now create a new variable current_row.\n",
    "# Create a list comprehension to sum the pairs using the sum() statmenet\n",
    "# Set current_row to equal this list of sums of pairs.\n",
    "# current_row should now equal [1, 1]\n",
    "# append this to the result using result.append(current_row)\n",
    "\n",
    "# Copy the code from the cell above and add your new code here"
   ]
  },
  {
   "cell_type": "code",
   "execution_count": null,
   "metadata": {
    "collapsed": true
   },
   "outputs": [],
   "source": [
    "# If time,\n",
    "# Print result in this format\n",
    "#              [1]              \n",
    "#             [1, 1]            \n",
    "#           [1, 2, 1]           \n",
    "#          [1, 3, 3, 1]         \n",
    "#        [1, 4, 6, 4, 1]        \n",
    "#      [1, 5, 10, 10, 5, 1]     \n",
    "#    [1, 6, 15, 20, 15, 6, 1]   \n",
    "#  [1, 7, 21, 35, 35, 21, 7, 1] \n",
    "\n",
    "# Hint - use str.center(chars)  # Note the American spelling of center()\n"
   ]
  },
  {
   "cell_type": "code",
   "execution_count": null,
   "metadata": {
    "collapsed": false
   },
   "outputs": [],
   "source": [
    "# If time\n",
    "# SIERPINSKI TRIANGLE\n",
    "#\n",
    "# Pascal's triangle has hidden patterns.\n",
    "# One is called Sierpinski's Triangle.\n",
    "# It is the pattern of odd and even numbers.\n",
    "# It is an example of a fractal: a never-ending mathematical pattern\n",
    "# In this exercise we will print a list of centred strings like the\n",
    "# one above, "
   ]
  },
  {
   "cell_type": "code",
   "execution_count": null,
   "metadata": {
    "collapsed": false
   },
   "outputs": [],
   "source": [
    "# Write a new function called pattern_print()\n",
    "# pattern_print() should take a list of integers int_list as its input\n",
    "# it should return a string.  The string should be made up of\n",
    "# two characters for each number in the int_list input.\n",
    "# the characters should be a '  ' (two spaces) if the number is even, \n",
    "# or ' *' (space, asterisk) if the number is odd.\n",
    "#\n",
    "# Hints:\n",
    "# use a list comprehension which returns a list of booleans;\n",
    "# True if the number is even, False if the number is odd. You\n",
    "# can determine if a number is even using:\n",
    "# my_int%2 == 0\n",
    "# Then write a second list comprehension which converts the \n",
    "# list of boolean values to a list of the appropriate two character strings.\n",
    "# use a dictionary:\n",
    "# my_dict = {True: '  ', False: ' *'}\n",
    "# and look up the appropriate string for each boolean value\n",
    "# using my_string = my_dict[my_bool] within the list comprehension.\n",
    "# Finally, join the list of two character strings together\n",
    "# using ''.join(my_list)\n",
    "# Centre the strings using str.center(65)\n",
    "\n",
    "def pattern_print(int_list):           # Write your code here\n",
    "    \n",
    "\n",
    "for row in pascal(31):\n",
    "    print(pattern_print(row).center(65))"
   ]
  },
  {
   "cell_type": "code",
   "execution_count": null,
   "metadata": {
    "collapsed": true
   },
   "outputs": [],
   "source": [
    "# If time\n",
    "#\n",
    "# This video shows some interesting attributes of Pascal's triangle\n",
    "# https://www.youtube.com/watch?v=XMriWTvPXHI&t=16s"
   ]
  }
 ],
 "metadata": {
  "anaconda-cloud": {},
  "kernelspec": {
   "display_name": "Python [conda env:headless]",
   "language": "python",
   "name": "conda-env-headless-py"
  },
  "language_info": {
   "codemirror_mode": {
    "name": "ipython",
    "version": 3
   },
   "file_extension": ".py",
   "mimetype": "text/x-python",
   "name": "python",
   "nbconvert_exporter": "python",
   "pygments_lexer": "ipython3",
   "version": "3.5.2"
  }
 },
 "nbformat": 4,
 "nbformat_minor": 1
}
