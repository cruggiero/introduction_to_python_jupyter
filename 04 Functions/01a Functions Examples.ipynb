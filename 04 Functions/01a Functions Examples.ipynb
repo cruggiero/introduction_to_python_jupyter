{
 "cells": [
  {
   "cell_type": "code",
   "execution_count": null,
   "metadata": {
    "collapsed": true
   },
   "outputs": [],
   "source": [
    "# FUNCTIONS"
   ]
  },
  {
   "cell_type": "code",
   "execution_count": null,
   "metadata": {
    "collapsed": false
   },
   "outputs": [],
   "source": [
    "# BUILT IN FUNCTIONS\n",
    "\n",
    "# https://docs.python.org/3.3/library/functions.html\n",
    "print(len('Hello'))\n",
    "print(min([1, 2, 3])) \n",
    "print(max([1, 2, 3]))\n",
    "print(sorted([3,1, 2]))\n",
    "print(str('h'), str(1.1))\n",
    "print(repr('h'), repr(1.1)) \n",
    "print(type(1.3))\n",
    "x = 5\n",
    "print(eval('x + 1'))"
   ]
  },
  {
   "cell_type": "code",
   "execution_count": null,
   "metadata": {
    "collapsed": false,
    "scrolled": false
   },
   "outputs": [],
   "source": [
    "# USER DEFINED FUNCTIONS\n",
    "# Declare a function like this:\n",
    "# A function may or may not have a \n",
    "# return value.\n",
    "\n",
    "def is_even(an_int):\n",
    "    if an_int % 2 == 0:\n",
    "        return True\n",
    "    return False"
   ]
  },
  {
   "cell_type": "code",
   "execution_count": null,
   "metadata": {
    "collapsed": false
   },
   "outputs": [],
   "source": [
    "# Call it like this:\n",
    "\n",
    "print(is_even(2))"
   ]
  },
  {
   "cell_type": "code",
   "execution_count": null,
   "metadata": {
    "collapsed": false
   },
   "outputs": [],
   "source": [
    "# Or within a loop\n",
    "\n",
    "for i in range(2,9):\n",
    "    if is_even(i):\n",
    "        print(i)"
   ]
  },
  {
   "cell_type": "code",
   "execution_count": null,
   "metadata": {
    "collapsed": false,
    "scrolled": true
   },
   "outputs": [],
   "source": [
    "# Any ideas why this works?\n",
    "\n",
    "def is_even2(an_int):\n",
    "    if an_int%2:\n",
    "        return False\n",
    "    return True\n",
    "\n",
    "print(is_even2(2))"
   ]
  },
  {
   "cell_type": "code",
   "execution_count": null,
   "metadata": {
    "collapsed": false,
    "scrolled": true
   },
   "outputs": [],
   "source": [
    "# Functions are themselves objects\n",
    "# They can be assigned to variables\n",
    "# and passed as parameters\n",
    "\n",
    "function_list = [len, max, min]\n",
    "my_list = [88, 99, 111]\n",
    "\n",
    "for my_fn in function_list:\n",
    "    print(my_fn.__name__, my_fn(my_list))    "
   ]
  },
  {
   "cell_type": "code",
   "execution_count": null,
   "metadata": {
    "collapsed": false,
    "scrolled": true
   },
   "outputs": [],
   "source": [
    "for my_function in function_list:\n",
    "    print(type(my_function), str(my_function), my_function(my_list))  "
   ]
  },
  {
   "cell_type": "code",
   "execution_count": null,
   "metadata": {
    "collapsed": false
   },
   "outputs": [],
   "source": [
    "# Typical example use is in sorting\n",
    "my_string = 'the quick brown fox'\n",
    "word_list = my_string.split()\n",
    "print(word_list)"
   ]
  },
  {
   "cell_type": "code",
   "execution_count": null,
   "metadata": {
    "collapsed": false,
    "scrolled": false
   },
   "outputs": [],
   "source": [
    "word_list.sort()\n",
    "print(word_list)"
   ]
  },
  {
   "cell_type": "code",
   "execution_count": null,
   "metadata": {
    "collapsed": false,
    "scrolled": true
   },
   "outputs": [],
   "source": [
    "word_list.sort(key=len)\n",
    "print(word_list)"
   ]
  },
  {
   "cell_type": "code",
   "execution_count": null,
   "metadata": {
    "collapsed": false,
    "scrolled": true
   },
   "outputs": [],
   "source": [
    "# Sorting with user defined functions\n",
    "my_list = [('c', 3), ('a', 5), ('b', 1)]\n",
    "my_list.sort()\n",
    "print(my_list)"
   ]
  },
  {
   "cell_type": "code",
   "execution_count": null,
   "metadata": {
    "collapsed": false,
    "scrolled": true
   },
   "outputs": [],
   "source": [
    "def second_item(a_sequence):\n",
    "    return a_sequence[1]\n",
    "print(second_item(('c', 3)))"
   ]
  },
  {
   "cell_type": "code",
   "execution_count": null,
   "metadata": {
    "collapsed": true
   },
   "outputs": [],
   "source": [
    "my_list.sort(key=second_item)"
   ]
  },
  {
   "cell_type": "code",
   "execution_count": null,
   "metadata": {
    "collapsed": false,
    "scrolled": true
   },
   "outputs": [],
   "source": [
    "print(my_list)"
   ]
  },
  {
   "cell_type": "code",
   "execution_count": null,
   "metadata": {
    "collapsed": false,
    "scrolled": true
   },
   "outputs": [],
   "source": [
    "# Docstrings\n",
    "\n",
    "def circle_area(radius):\n",
    "    \"\"\"\n",
    "    Work out area of a circle\n",
    "    :param radius: the radius\n",
    "    :return: area of circle\n",
    "    \"\"\"\n",
    "\n",
    "    return 3.14159265*radius**2\n",
    "\n",
    "print(circle_area(radius=4))"
   ]
  },
  {
   "cell_type": "code",
   "execution_count": null,
   "metadata": {
    "collapsed": false,
    "scrolled": false
   },
   "outputs": [],
   "source": [
    "print(help(circle_area))"
   ]
  }
 ],
 "metadata": {
  "anaconda-cloud": {},
  "kernelspec": {
   "display_name": "Python [conda env:headless]",
   "language": "python",
   "name": "conda-env-headless-py"
  },
  "language_info": {
   "codemirror_mode": {
    "name": "ipython",
    "version": 3
   },
   "file_extension": ".py",
   "mimetype": "text/x-python",
   "name": "python",
   "nbconvert_exporter": "python",
   "pygments_lexer": "ipython3",
   "version": "3.5.2"
  }
 },
 "nbformat": 4,
 "nbformat_minor": 1
}
