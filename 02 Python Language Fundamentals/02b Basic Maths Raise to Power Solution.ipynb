{
 "cells": [
  {
   "cell_type": "code",
   "execution_count": null,
   "metadata": {
    "collapsed": true
   },
   "outputs": [],
   "source": [
    "# Simple calculator to raise one number to a power of another number"
   ]
  },
  {
   "cell_type": "code",
   "execution_count": null,
   "metadata": {
    "collapsed": false,
    "scrolled": true
   },
   "outputs": [],
   "source": [
    "# Execute the following code to understand \n",
    "# how the input() function works\n",
    "\n",
    "my_string = input('Enter your name ')\n",
    "print('Hi there, ' + my_string + '!')"
   ]
  },
  {
   "cell_type": "code",
   "execution_count": null,
   "metadata": {
    "collapsed": false,
    "scrolled": true
   },
   "outputs": [],
   "source": [
    "# Complete the code below, to prompt the user\n",
    "# to type in two numbers. The program should print out\n",
    "# one value; the result of the first number, raised \n",
    "# to the power of the second number\n",
    "# \n",
    "# Note - the input() function returns a string.\n",
    "# You will need to change the values it returns\n",
    "# to an int for the program to work correctly.\n",
    "\n",
    "first_string = input('Enter first number ')\n",
    "power_string = input('Enter the power ')\n",
    "print(int(first_string)**int(power_string))\n"
   ]
  },
  {
   "cell_type": "code",
   "execution_count": null,
   "metadata": {
    "collapsed": false
   },
   "outputs": [],
   "source": [
    "# If time, output the result in the following format:\n",
    "# 2 to the power of 3 is 8\n",
    "\n",
    "print(first_string + ' to the power of ' + power_string + ' is', int(first_string)**int(power_string))"
   ]
  },
  {
   "cell_type": "code",
   "execution_count": null,
   "metadata": {
    "collapsed": false
   },
   "outputs": [],
   "source": [
    "# Note, it is possible to split a single line of code over multiple lines \n",
    "# to improve readablity\n",
    "\n",
    "print(first_string +\n",
    "      ' to the power of ' + \n",
    "      power_string + \n",
    "      ' is', \n",
    "      int(first_string)**int(power_string))"
   ]
  }
 ],
 "metadata": {
  "kernelspec": {
   "display_name": "Python [conda env:headless]",
   "language": "python",
   "name": "conda-env-headless-py"
  },
  "language_info": {
   "codemirror_mode": {
    "name": "ipython",
    "version": 3
   },
   "file_extension": ".py",
   "mimetype": "text/x-python",
   "name": "python",
   "nbconvert_exporter": "python",
   "pygments_lexer": "ipython3",
   "version": "3.5.2"
  }
 },
 "nbformat": 4,
 "nbformat_minor": 1
}
