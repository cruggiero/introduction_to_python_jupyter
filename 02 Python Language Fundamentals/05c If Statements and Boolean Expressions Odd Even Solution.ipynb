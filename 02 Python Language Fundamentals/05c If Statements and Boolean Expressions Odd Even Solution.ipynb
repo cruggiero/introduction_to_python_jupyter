{
 "cells": [
  {
   "cell_type": "code",
   "execution_count": null,
   "metadata": {
    "collapsed": true
   },
   "outputs": [],
   "source": [
    "# Iterate through a range of numbers from 2 to 20\n",
    "# using a for loop\n",
    "# print out whether the number is odd or even.\n",
    "# The output should look like this:\n",
    "# \n",
    "# 2 is even\n",
    "# 3 is odd\n",
    "# 4 is even\n",
    "# 5 is odd\n",
    "# ..."
   ]
  },
  {
   "cell_type": "code",
   "execution_count": null,
   "metadata": {
    "collapsed": false
   },
   "outputs": [],
   "source": [
    "for i in range (2, 21):\n",
    "    if i%2 == 0:\n",
    "        print(i, 'is even')\n",
    "    else:\n",
    "        print(i, 'is odd')"
   ]
  },
  {
   "cell_type": "code",
   "execution_count": null,
   "metadata": {
    "collapsed": true
   },
   "outputs": [],
   "source": [
    "# If time\n",
    "# \n",
    "# Write a program for the game of Fizz buzz as described in Wikipedia here:\n",
    "# https://en.wikipedia.org/wiki/Fizz_buzz\n",
    "# Numbers divisible by 3 are replaced by the word Fizz\n",
    "# Numbers divisible by 5 are replaced by the word Buzz\n",
    "# Numbers divisible by both are replaced by the word FizzBuzz\n",
    "# \n",
    "# The program should generate numbers from 1 to 35 in the following format:\n",
    "# 1, 2, Fizz, 4, Buzz, Fizz, 7, 8, Fizz, Buzz, 11, Fizz, 13, 14, FizzBuzz, 16, ...\n",
    "# \n",
    "# Hints: \n",
    "#  i%3 equals zero if i is divisible by zero\n",
    "#  Use the end='' syntax in the print() statement to avoid printing a new line.\n",
    "#  You can use brackets to group boolean expressions together e.g.\n",
    "#  if not(expression_a or expression_b):"
   ]
  },
  {
   "cell_type": "code",
   "execution_count": null,
   "metadata": {
    "collapsed": false
   },
   "outputs": [],
   "source": [
    "for i in range(1,36):\n",
    "    if i%3 == 0:\n",
    "        print('Fizz', end='')\n",
    "    if i%5 == 0:\n",
    "        print('Buzz', end='')\n",
    "    if not(i%3 == 0 or i%5 == 0):\n",
    "        print(i, end ='')\n",
    "    print(', ', end ='')\n",
    "    "
   ]
  }
 ],
 "metadata": {
  "anaconda-cloud": {},
  "kernelspec": {
   "display_name": "Python [conda env:headless]",
   "language": "python",
   "name": "conda-env-headless-py"
  },
  "language_info": {
   "codemirror_mode": {
    "name": "ipython",
    "version": 3
   },
   "file_extension": ".py",
   "mimetype": "text/x-python",
   "name": "python",
   "nbconvert_exporter": "python",
   "pygments_lexer": "ipython3",
   "version": "3.5.2"
  }
 },
 "nbformat": 4,
 "nbformat_minor": 1
}
