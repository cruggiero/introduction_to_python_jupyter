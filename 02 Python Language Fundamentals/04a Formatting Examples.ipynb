{
 "cells": [
  {
   "cell_type": "code",
   "execution_count": null,
   "metadata": {
    "collapsed": true
   },
   "outputs": [],
   "source": [
    "# FORMATTING USING str.format()"
   ]
  },
  {
   "cell_type": "code",
   "execution_count": null,
   "metadata": {
    "collapsed": false,
    "scrolled": true
   },
   "outputs": [],
   "source": [
    "# We can't just use str.ljust() or str.rjust() for floats.\n",
    "# We also need to round to certain number of decimal points.\n",
    "\n",
    "for i in range(1,6):\n",
    "    print(i, i/3, i**2)"
   ]
  },
  {
   "cell_type": "code",
   "execution_count": null,
   "metadata": {
    "collapsed": false
   },
   "outputs": [],
   "source": [
    "# We can do this using .format()\n",
    "# First though we need to understand how the \n",
    "# Curly braces work with the .format() method.\n",
    "\n",
    "a_int = 1\n",
    "b_int = 3\n",
    "result_float = 1/3\n",
    "print(result_float)\n",
    "# result_string = '{} divided by {} is {}'.format(a_int, b_int, result_float)\n",
    "# print(result_string)"
   ]
  },
  {
   "cell_type": "code",
   "execution_count": null,
   "metadata": {
    "collapsed": false
   },
   "outputs": [],
   "source": [
    "# Format floats using syntax like {:.2f}\n",
    "# The number after the decimal place is the number\n",
    "# of decimal places.\n",
    "# The number before the decimal place, if there is one\n",
    "# is the number of spaces to pad to.\n",
    "\n",
    "a_int = 1\n",
    "b_int = 3\n",
    "result_float = 1/3\n",
    "result_string = '{} divided by {} is {:.2f}'.format(a_int, b_int, result_float)\n",
    "print(result_string)"
   ]
  },
  {
   "cell_type": "code",
   "execution_count": null,
   "metadata": {
    "collapsed": false,
    "scrolled": false
   },
   "outputs": [],
   "source": [
    "# Why is the colon needed?\n",
    "# You can add an integer before the colon to \n",
    "# specify which argument to pick up.\n",
    "\n",
    "a_int = 1\n",
    "b_int = 3\n",
    "result_float = 1/3\n",
    "result_string = '{0:} divided by {1:} is {2:.2f}'.format(a_int, b_int, result_float)\n",
    "print(result_string)"
   ]
  },
  {
   "cell_type": "code",
   "execution_count": null,
   "metadata": {
    "collapsed": false,
    "scrolled": true
   },
   "outputs": [],
   "source": [
    "# Integers use a 'd' rather than an 'f'\n",
    "# in their format strings.\n",
    "\n",
    "print('My integer = {:,d}'.format(1000000))  # comma separators for thousands"
   ]
  },
  {
   "cell_type": "code",
   "execution_count": null,
   "metadata": {
    "collapsed": false
   },
   "outputs": [],
   "source": [
    "# You can pad, add thousands separators and\n",
    "# specify number of decimal places within the \n",
    "# same format string.\n",
    "# You can even print the same argument out twice.\n",
    "\n",
    "for i in range(0, 4):\n",
    "    print('{0:6d}{1:8,d}{2:9.2f}{2:9,.1f}'.format(i*10, i*1000, i*1000/3))"
   ]
  },
  {
   "cell_type": "code",
   "execution_count": null,
   "metadata": {
    "collapsed": true
   },
   "outputs": [],
   "source": [
    "# More format examples here:\n",
    "# https://mkaz.tech/python-string-format.html\n",
    "    "
   ]
  }
 ],
 "metadata": {
  "anaconda-cloud": {},
  "kernelspec": {
   "display_name": "Python [conda env:headless]",
   "language": "python",
   "name": "conda-env-headless-py"
  },
  "language_info": {
   "codemirror_mode": {
    "name": "ipython",
    "version": 3
   },
   "file_extension": ".py",
   "mimetype": "text/x-python",
   "name": "python",
   "nbconvert_exporter": "python",
   "pygments_lexer": "ipython3",
   "version": "3.5.2"
  }
 },
 "nbformat": 4,
 "nbformat_minor": 1
}
