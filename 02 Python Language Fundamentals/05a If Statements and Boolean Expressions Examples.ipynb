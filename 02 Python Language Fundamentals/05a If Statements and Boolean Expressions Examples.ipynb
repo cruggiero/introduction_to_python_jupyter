{
 "cells": [
  {
   "cell_type": "code",
   "execution_count": null,
   "metadata": {
    "collapsed": true
   },
   "outputs": [],
   "source": [
    "# IF STATEMENTS AND BOOLEAN EXPRESSIONS"
   ]
  },
  {
   "cell_type": "code",
   "execution_count": null,
   "metadata": {
    "collapsed": false
   },
   "outputs": [],
   "source": [
    "a = 4\n",
    "if a > 2:\n",
    "    print('greater than 2')"
   ]
  },
  {
   "cell_type": "code",
   "execution_count": null,
   "metadata": {
    "collapsed": false
   },
   "outputs": [],
   "source": [
    "a = 1\n",
    "if a > 2:\n",
    "    print('greater than 2')\n",
    "else:\n",
    "    print('less than or equal to 2')"
   ]
  },
  {
   "cell_type": "code",
   "execution_count": null,
   "metadata": {
    "collapsed": false,
    "scrolled": true
   },
   "outputs": [],
   "source": [
    "a = 4\n",
    "if a > 2:\n",
    "    print('greater than 2')\n",
    "elif a == 2:\n",
    "    print('equal to 2')\n",
    "else:\n",
    "    print('less than 2')"
   ]
  },
  {
   "cell_type": "code",
   "execution_count": null,
   "metadata": {
    "collapsed": true
   },
   "outputs": [],
   "source": [
    "# Boolean Comparison Operators\n",
    "# <, <=, >, >=, ==, != "
   ]
  },
  {
   "cell_type": "code",
   "execution_count": null,
   "metadata": {
    "collapsed": false,
    "scrolled": true
   },
   "outputs": [],
   "source": [
    "# Alter the operator to validate the logic\n",
    "\n",
    "a = 2\n",
    "b = 3\n",
    "if a > b:\n",
    "    print('Correct')\n",
    "else:\n",
    "    print('Incorrect')"
   ]
  },
  {
   "cell_type": "code",
   "execution_count": null,
   "metadata": {
    "collapsed": false
   },
   "outputs": [],
   "source": [
    "# Chaining Comparison Operators\n",
    "# Try various values for a\n",
    "\n",
    "a = 0\n",
    "if 0 < a < 10:\n",
    "    print('a is between the two values')\n",
    "else:\n",
    "    print('a is on a boundary or outside the range')"
   ]
  },
  {
   "cell_type": "code",
   "execution_count": null,
   "metadata": {
    "collapsed": true
   },
   "outputs": [],
   "source": [
    "# Boolean operators: and, or, not"
   ]
  },
  {
   "cell_type": "code",
   "execution_count": null,
   "metadata": {
    "collapsed": false
   },
   "outputs": [],
   "source": [
    "# and\n",
    "\n",
    "a = 2\n",
    "b = 3\n",
    "if a > 1 and b > 2:\n",
    "    print('Both checks are correct')"
   ]
  },
  {
   "cell_type": "code",
   "execution_count": null,
   "metadata": {
    "collapsed": false
   },
   "outputs": [],
   "source": [
    "# or\n",
    "\n",
    "a = 2\n",
    "b = 2\n",
    "if a > 1 or b > 2:\n",
    "    print('At least one check is correct')"
   ]
  },
  {
   "cell_type": "code",
   "execution_count": null,
   "metadata": {
    "collapsed": false,
    "scrolled": true
   },
   "outputs": [],
   "source": [
    "# not\n",
    "\n",
    "a = 2\n",
    "if not a > 5:\n",
    "    print('a is not greater than 5')"
   ]
  },
  {
   "cell_type": "code",
   "execution_count": null,
   "metadata": {
    "collapsed": true
   },
   "outputs": [],
   "source": [
    "# Use brackets to determine the order of execution\n",
    "# for complex expressions:\n",
    "\n",
    "if not(a > 5 or b > 10) and c == 3:\n",
    "    print('The complex condition is satisfied')"
   ]
  },
  {
   "cell_type": "code",
   "execution_count": null,
   "metadata": {
    "collapsed": true
   },
   "outputs": [],
   "source": [
    "# Testing if value in a range"
   ]
  },
  {
   "cell_type": "code",
   "execution_count": null,
   "metadata": {
    "collapsed": false
   },
   "outputs": [],
   "source": [
    "# in range()\n",
    "\n",
    "a = 5\n",
    "if a in range(3,7):\n",
    "    print('a is in the range')"
   ]
  },
  {
   "cell_type": "code",
   "execution_count": null,
   "metadata": {
    "collapsed": false
   },
   "outputs": [],
   "source": [
    "# not in range()\n",
    "\n",
    "a = 2\n",
    "if a not in range(3,7):\n",
    "    print('a is not in the range')"
   ]
  }
 ],
 "metadata": {
  "anaconda-cloud": {},
  "kernelspec": {
   "display_name": "Python [conda env:headless]",
   "language": "python",
   "name": "conda-env-headless-py"
  },
  "language_info": {
   "codemirror_mode": {
    "name": "ipython",
    "version": 3
   },
   "file_extension": ".py",
   "mimetype": "text/x-python",
   "name": "python",
   "nbconvert_exporter": "python",
   "pygments_lexer": "ipython3",
   "version": "3.5.2"
  }
 },
 "nbformat": 4,
 "nbformat_minor": 1
}
