{
 "cells": [
  {
   "cell_type": "code",
   "execution_count": null,
   "metadata": {
    "collapsed": true
   },
   "outputs": [],
   "source": [
    "# FOR LOOP TIMES TABLE SOLUTION"
   ]
  },
  {
   "cell_type": "code",
   "execution_count": null,
   "metadata": {
    "collapsed": true
   },
   "outputs": [],
   "source": [
    "# Write a program to generate a times table grid \n",
    "# for the numbers from 1 to 15\n",
    "# You will need to use two 'for' statements, one\n",
    "# nested inside the other. Each will have its own range()\n",
    "# the grid should be in the following format\n",
    "\n",
    "#    1   2   3   4 ...\n",
    "#    2   4   6   8 ...\n",
    "#    3   6   9  12 ...\n",
    "#    4   8  12  16 ...\n",
    "#    ...\n",
    "\n",
    "# use ,end = '' inside some of the print() statements \n",
    "# to remove the automatic new line.\n",
    "#\n",
    "# Convert the int result to a string using str()\n",
    "# Right justify and pad it with spaces using str.rjust()"
   ]
  },
  {
   "cell_type": "code",
   "execution_count": 11,
   "metadata": {
    "collapsed": false
   },
   "outputs": [
    {
     "name": "stdout",
     "output_type": "stream",
     "text": [
      "   1   2   3   4   5   6   7   8   9  10  11  12  13  14  15\n",
      "   2   4   6   8  10  12  14  16  18  20  22  24  26  28  30\n",
      "   3   6   9  12  15  18  21  24  27  30  33  36  39  42  45\n",
      "   4   8  12  16  20  24  28  32  36  40  44  48  52  56  60\n",
      "   5  10  15  20  25  30  35  40  45  50  55  60  65  70  75\n",
      "   6  12  18  24  30  36  42  48  54  60  66  72  78  84  90\n",
      "   7  14  21  28  35  42  49  56  63  70  77  84  91  98 105\n",
      "   8  16  24  32  40  48  56  64  72  80  88  96 104 112 120\n",
      "   9  18  27  36  45  54  63  72  81  90  99 108 117 126 135\n",
      "  10  20  30  40  50  60  70  80  90 100 110 120 130 140 150\n",
      "  11  22  33  44  55  66  77  88  99 110 121 132 143 154 165\n",
      "  12  24  36  48  60  72  84  96 108 120 132 144 156 168 180\n",
      "  13  26  39  52  65  78  91 104 117 130 143 156 169 182 195\n",
      "  14  28  42  56  70  84  98 112 126 140 154 168 182 196 210\n",
      "  15  30  45  60  75  90 105 120 135 150 165 180 195 210 225\n"
     ]
    }
   ],
   "source": [
    "for i in range(1, 16):\n",
    "    for j in range (1, 16):\n",
    "        print (str(i*j).rjust(4), end='')\n",
    "    print()"
   ]
  },
  {
   "cell_type": "code",
   "execution_count": 14,
   "metadata": {
    "collapsed": false
   },
   "outputs": [
    {
     "name": "stdout",
     "output_type": "stream",
     "text": [
      "Please enter the size of the grid you would like: 8\n",
      "\n",
      "Here is a 8 by 8 table:\n",
      "   1   2   3   4   5   6   7   8\n",
      "   2   4   6   8  10  12  14  16\n",
      "   3   6   9  12  15  18  21  24\n",
      "   4   8  12  16  20  24  28  32\n",
      "   5  10  15  20  25  30  35  40\n",
      "   6  12  18  24  30  36  42  48\n",
      "   7  14  21  28  35  42  49  56\n",
      "   8  16  24  32  40  48  56  64\n"
     ]
    }
   ],
   "source": [
    "# If time:\n",
    "# \n",
    "# Request the user to enter a number using input('...')\n",
    "# Generate a grid of those dimensions\n",
    "# Remember to convert the result of the input from\n",
    "# a string to an int\n",
    "\n",
    "size_string = input('Please enter the size of the grid you would like: ')\n",
    "print()\n",
    "print('Here is a', size_string, 'by', size_string, 'table:')\n",
    "size_int = int(size_string)\n",
    "for i in range(1, size_int + 1):\n",
    "    for j in range (1, size_int + 1):\n",
    "        print (str(i*j).rjust(4), end='')\n",
    "    print()"
   ]
  }
 ],
 "metadata": {
  "kernelspec": {
   "display_name": "Python [conda env:headless]",
   "language": "python",
   "name": "conda-env-headless-py"
  },
  "language_info": {
   "codemirror_mode": {
    "name": "ipython",
    "version": 3
   },
   "file_extension": ".py",
   "mimetype": "text/x-python",
   "name": "python",
   "nbconvert_exporter": "python",
   "pygments_lexer": "ipython3",
   "version": "3.5.2"
  }
 },
 "nbformat": 4,
 "nbformat_minor": 1
}
