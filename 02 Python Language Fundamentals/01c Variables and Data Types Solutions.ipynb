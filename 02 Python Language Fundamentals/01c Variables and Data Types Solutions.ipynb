{
 "cells": [
  {
   "cell_type": "code",
   "execution_count": null,
   "metadata": {
    "collapsed": true
   },
   "outputs": [],
   "source": [
    "# VARIABLES AND DATA TYPES"
   ]
  },
  {
   "cell_type": "code",
   "execution_count": 2,
   "metadata": {
    "collapsed": false
   },
   "outputs": [
    {
     "name": "stdout",
     "output_type": "stream",
     "text": [
      "It's a sunny day, the temperature is: \n",
      "<class 'str'>\n"
     ]
    }
   ],
   "source": [
    "# Create a variable temperature_string to store the following string: \n",
    "# \"It's a sunny day, the temperature is: \" \n",
    "# Print the value and run the cell using Ctrl + Enter\n",
    "# Add code to print out the data type and run the cell again\n",
    "\n",
    "temperature_string = \"It's a sunny day, the temperature is: \" \n",
    "print(temperature_string)\n",
    "print(type(temperature_string))"
   ]
  },
  {
   "cell_type": "code",
   "execution_count": 3,
   "metadata": {
    "collapsed": false
   },
   "outputs": [
    {
     "name": "stdout",
     "output_type": "stream",
     "text": [
      "25\n",
      "<class 'int'>\n"
     ]
    }
   ],
   "source": [
    "# Create a variable called temperature_int and assign it the value of 25\n",
    "# print the value and type\n",
    "\n",
    "temperature_int = 25\n",
    "print(temperature_int)\n",
    "print(type(temperature_int))"
   ]
  },
  {
   "cell_type": "code",
   "execution_count": 4,
   "metadata": {
    "collapsed": false
   },
   "outputs": [
    {
     "name": "stdout",
     "output_type": "stream",
     "text": [
      "It's a sunny day, the temperature is:  25\n"
     ]
    }
   ],
   "source": [
    "# Print both variables; temperature_string and temperature_int\n",
    "# one after another, using the same print statement.\n",
    "# Separate the values with a comma\n",
    "\n",
    "print(temperature_string, temperature_int)"
   ]
  },
  {
   "cell_type": "code",
   "execution_count": 5,
   "metadata": {
    "collapsed": false
   },
   "outputs": [
    {
     "name": "stdout",
     "output_type": "stream",
     "text": [
      "It's a sunny day, the temperature is: 25\n"
     ]
    }
   ],
   "source": [
    "# Now concatentate the two variables together using\n",
    "# the '+' symbol and assign the result to a variable called\n",
    "# full_string. \n",
    "# You will need to convert the integer to a string using str() \n",
    "# for this to work.\n",
    "# print out the value of the new variable.\n",
    "\n",
    "full_string = temperature_string + str(temperature_int)\n",
    "print(full_string)"
   ]
  }
 ],
 "metadata": {
  "anaconda-cloud": {},
  "kernelspec": {
   "display_name": "Python [conda env:headless]",
   "language": "python",
   "name": "conda-env-headless-py"
  },
  "language_info": {
   "codemirror_mode": {
    "name": "ipython",
    "version": 3
   },
   "file_extension": ".py",
   "mimetype": "text/x-python",
   "name": "python",
   "nbconvert_exporter": "python",
   "pygments_lexer": "ipython3",
   "version": "3.5.2"
  }
 },
 "nbformat": 4,
 "nbformat_minor": 1
}
