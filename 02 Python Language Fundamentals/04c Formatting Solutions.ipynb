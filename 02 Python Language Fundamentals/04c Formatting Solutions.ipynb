{
 "cells": [
  {
   "cell_type": "code",
   "execution_count": null,
   "metadata": {
    "collapsed": true
   },
   "outputs": [],
   "source": [
    "# FORMATTING USING str.format()\n",
    "\n",
    "# Open the notebook '04a Formatting Examples'\n",
    "# To check the format strings\n",
    "# you need to include inside the curly brackets."
   ]
  },
  {
   "cell_type": "code",
   "execution_count": null,
   "metadata": {
    "collapsed": false,
    "scrolled": true
   },
   "outputs": [],
   "source": [
    "a = 99999\n",
    "\n",
    "# Print the value of a with commas for the thousand separators\n",
    "\n",
    "print('{:,d}'.format(a))"
   ]
  },
  {
   "cell_type": "code",
   "execution_count": null,
   "metadata": {
    "collapsed": false,
    "scrolled": true
   },
   "outputs": [],
   "source": [
    "a = 22/7\n",
    "print(a)\n",
    "\n",
    "# Print the value of a to two decimal places\n",
    "\n",
    "print('{:.2f}'.format(a))"
   ]
  },
  {
   "cell_type": "code",
   "execution_count": null,
   "metadata": {
    "collapsed": false
   },
   "outputs": [],
   "source": [
    "# If time\n",
    "#\n",
    "# Change the following code to \n",
    "# print the table with:\n",
    "#   floats formatted to two decimal places\n",
    "#   columns vertically aligned\n",
    "#   thousands separators\n",
    "\n",
    "for i in range(0,11, 2):\n",
    "    print(i/7, i**4, i)"
   ]
  },
  {
   "cell_type": "code",
   "execution_count": null,
   "metadata": {
    "collapsed": false
   },
   "outputs": [],
   "source": [
    "for i in range(0,11, 2):\n",
    "    print('{:5.2f} {:7,d} {:3d}'.format(i/7, i**4, i))"
   ]
  }
 ],
 "metadata": {
  "anaconda-cloud": {},
  "kernelspec": {
   "display_name": "Python [conda env:headless]",
   "language": "python",
   "name": "conda-env-headless-py"
  },
  "language_info": {
   "codemirror_mode": {
    "name": "ipython",
    "version": 3
   },
   "file_extension": ".py",
   "mimetype": "text/x-python",
   "name": "python",
   "nbconvert_exporter": "python",
   "pygments_lexer": "ipython3",
   "version": "3.5.2"
  }
 },
 "nbformat": 4,
 "nbformat_minor": 1
}
