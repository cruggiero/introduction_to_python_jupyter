{
 "cells": [
  {
   "cell_type": "code",
   "execution_count": null,
   "metadata": {
    "collapsed": true
   },
   "outputs": [],
   "source": [
    "# FOR LOOP TIMES TABLE SOLUTION"
   ]
  },
  {
   "cell_type": "code",
   "execution_count": null,
   "metadata": {
    "collapsed": true
   },
   "outputs": [],
   "source": [
    "# Write a program to generate a times table grid \n",
    "# for the numbers from 1 to 15\n",
    "# You will need to use two 'for' statements, one\n",
    "# nested inside the other. Each will have its own range()\n",
    "# the grid should be in the following format\n",
    "\n",
    "#    1   2   3   4 ...\n",
    "#    2   4   6   8 ...\n",
    "#    3   6   9  12 ...\n",
    "#    4   8  12  16 ...\n",
    "#    ...\n",
    "\n",
    "# use ,end = '' inside some of the print() statements \n",
    "# to remove the automatic new line.\n",
    "#\n",
    "# Convert the int result to a string using str()\n",
    "# Right justify and pad it with spaces using str.rjust()\n"
   ]
  },
  {
   "cell_type": "code",
   "execution_count": null,
   "metadata": {
    "collapsed": false
   },
   "outputs": [],
   "source": [
    "# If time:\n",
    "# \n",
    "# Request the user to enter a number using input('...')\n",
    "# Generate a grid of those dimensions\n",
    "# Remember to convert the result of the input from\n",
    "# a string to an int\n"
   ]
  }
 ],
 "metadata": {
  "kernelspec": {
   "display_name": "Python [conda env:headless]",
   "language": "python",
   "name": "conda-env-headless-py"
  },
  "language_info": {
   "codemirror_mode": {
    "name": "ipython",
    "version": 3
   },
   "file_extension": ".py",
   "mimetype": "text/x-python",
   "name": "python",
   "nbconvert_exporter": "python",
   "pygments_lexer": "ipython3",
   "version": "3.5.2"
  }
 },
 "nbformat": 4,
 "nbformat_minor": 1
}
