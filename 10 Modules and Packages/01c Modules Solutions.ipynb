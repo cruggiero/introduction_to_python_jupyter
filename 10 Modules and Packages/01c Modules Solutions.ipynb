{
 "cells": [
  {
   "cell_type": "code",
   "execution_count": null,
   "metadata": {
    "collapsed": true
   },
   "outputs": [],
   "source": [
    "# MODULES - Solutions"
   ]
  },
  {
   "cell_type": "code",
   "execution_count": null,
   "metadata": {
    "collapsed": true
   },
   "outputs": [],
   "source": [
    "# os\n",
    "# \n",
    "# import the 'os' module\n",
    "# make a call to os.system()\n",
    "# and pass the parameter 'start chrome \"https://docs.python.org/3/library/index.html\"'\n",
    "\n",
    "import os\n",
    "\n",
    "os.system('start chrome \"https://docs.python.org/3/library/index.html\"')"
   ]
  },
  {
   "cell_type": "code",
   "execution_count": null,
   "metadata": {
    "collapsed": true
   },
   "outputs": [],
   "source": [
    "# string\n",
    "#\n",
    "# execute the cell to import the string module.\n",
    "# Then uncomment string. and press the Tab key with the cursor immediately after the full-stop\n",
    "# to find all the functions available in the string module\n",
    "\n",
    "import string\n",
    "\n",
    "# string."
   ]
  },
  {
   "cell_type": "code",
   "execution_count": null,
   "metadata": {
    "collapsed": true
   },
   "outputs": [],
   "source": [
    "import string\n",
    "\n",
    "print(string.ascii_uppercase)"
   ]
  },
  {
   "cell_type": "code",
   "execution_count": null,
   "metadata": {
    "collapsed": true
   },
   "outputs": [],
   "source": [
    "# Try the following:\n",
    "\n",
    "print(string.ascii_uppercase)\n",
    "print(string.ascii_lowercase)\n",
    "print()\n",
    "\n",
    "print(string.digits)\n",
    "print(string.ascii_letters)\n",
    "print(string.punctuation) \n",
    "print(string.printable)\n",
    "print()\n",
    "\n",
    "a = string.capwords(\"what realm is this?\")\n",
    "print(a)"
   ]
  },
  {
   "cell_type": "code",
   "execution_count": null,
   "metadata": {
    "collapsed": true
   },
   "outputs": [],
   "source": [
    "# If time\n",
    "#\n",
    "# Write a list comprehension to remove all puntuation from the sentence below.\n",
    "# Use string.punctuation to find a string containing all punctuation marks.\n",
    "# Use the in() function to determine whether a character appears in that list.\n",
    "# Use ''.join() to join the list of characters back into a string\n",
    "\n",
    "import string\n",
    "\n",
    "sentence = 'It is from the words, and from the context, not from the punctuation, that the sense must be collected.'\n",
    "char_list = [char for ... ]  # Replace the three dots with the appropriate code\n",
    "sentence_no_punctuation = ''.join(char_list)\n",
    "print(sentence_no_punctuation)\n",
    "\n",
    "# Quote taken from Sir Wm. Grant, M.R., Sanford v. Raikes (1816), 1 Mer. 651; per Lord Westbury, Gordon v. Gordon (1871), L. R. 5 H. L. 276."
   ]
  },
  {
   "cell_type": "code",
   "execution_count": null,
   "metadata": {
    "collapsed": true
   },
   "outputs": [],
   "source": [
    "# time\n",
    "# \n",
    "# import the time module and execute the cell\n",
    "\n",
    "import time"
   ]
  },
  {
   "cell_type": "code",
   "execution_count": null,
   "metadata": {
    "collapsed": true
   },
   "outputs": [],
   "source": [
    "# Type the word 'time' followed by a full stop, \n",
    "# then press the Tab key to see the list of avialable functions\n",
    "\n",
    "time."
   ]
  },
  {
   "cell_type": "code",
   "execution_count": null,
   "metadata": {
    "collapsed": false,
    "scrolled": true
   },
   "outputs": [],
   "source": [
    "# set variable my_time to time.time()\n",
    "# print out its value\n",
    "\n",
    "my_time = time.time()\n",
    "print(my_time)"
   ]
  },
  {
   "cell_type": "code",
   "execution_count": null,
   "metadata": {
    "collapsed": false
   },
   "outputs": [],
   "source": [
    "# print time.localtime()\n",
    "\n",
    "print(time.localtime())"
   ]
  },
  {
   "cell_type": "code",
   "execution_count": null,
   "metadata": {
    "collapsed": false,
    "scrolled": true
   },
   "outputs": [],
   "source": [
    "# execute the following code:\n",
    "\n",
    "print(time.asctime(time.localtime()))"
   ]
  },
  {
   "cell_type": "code",
   "execution_count": null,
   "metadata": {
    "collapsed": false,
    "scrolled": true
   },
   "outputs": [],
   "source": [
    "# execute the following code:\n",
    "\n",
    "print(time.gmtime(time.time()))"
   ]
  },
  {
   "cell_type": "code",
   "execution_count": null,
   "metadata": {
    "collapsed": false,
    "scrolled": true
   },
   "outputs": [],
   "source": [
    "# If time:\n",
    "#\n",
    "# Exercise to test performance of a piece of code using time.time()\n",
    "#\n",
    "# create a variable start_time \n",
    "# set its value to time.time()\n",
    "# then create a slow loop that iterates a million times\n",
    "# inside the loop, just put the code a = 1+1\n",
    "# finally, print out the difference between the start time and the current time\n",
    "# the result is the time difference in seconds\n",
    "\n",
    "import time\n",
    "start_time = time.time()\n",
    "for i in range(1000000):\n",
    "    a = 1+1\n",
    "print(time.time()-start_time)"
   ]
  },
  {
   "cell_type": "code",
   "execution_count": null,
   "metadata": {
    "collapsed": true
   },
   "outputs": [],
   "source": [
    "# Warning - \n",
    "# although the code above appears to print the time\n",
    "# very accurately,\n",
    "# the operating sysem is generally only\n",
    "# able to determine the time to the nearest millisecond or so."
   ]
  }
 ],
 "metadata": {
  "anaconda-cloud": {},
  "kernelspec": {
   "display_name": "Python [conda env:headless]",
   "language": "python",
   "name": "conda-env-headless-py"
  },
  "language_info": {
   "codemirror_mode": {
    "name": "ipython",
    "version": 3
   },
   "file_extension": ".py",
   "mimetype": "text/x-python",
   "name": "python",
   "nbconvert_exporter": "python",
   "pygments_lexer": "ipython3",
   "version": "3.5.2"
  }
 },
 "nbformat": 4,
 "nbformat_minor": 1
}
